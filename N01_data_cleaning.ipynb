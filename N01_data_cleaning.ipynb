{
 "cells": [
  {
   "attachments": {},
   "cell_type": "markdown",
   "id": "634fd9bf-684e-446c-a8e7-0a538a507305",
   "metadata": {},
   "source": [
    "### N01: Data Creation, Exploration & Cleaning\n",
    "\n",
    "The purpose of this notebook is to:<br>\n",
    "1. Create a fake/artificial dataset\n",
    "2. Explore the data\n",
    "3. Clean and prepare the data for further analysis\n",
    "\n",
    "Please refer to the <b><a href=\"https://github.com/pbquandt/Exploring_Random_Property_Markets/blob/master/README.md\">README.md</a></b> document for more information."
   ]
  },
  {
   "cell_type": "markdown",
   "id": "6df0e1a9588eb575",
   "metadata": {},
   "source": [
    "<p style='background-color: #253d7a; margin-top:20px; padding:5px 15px; font-weight: 500; color: white;'>Importing Libraries</p>"
   ]
  },
  {
   "cell_type": "code",
   "execution_count": 1,
   "id": "initial_id",
   "metadata": {
    "ExecuteTime": {
     "end_time": "2025-05-31T13:53:47.131891Z",
     "start_time": "2025-05-31T13:53:46.504576Z"
    }
   },
   "outputs": [],
   "source": [
    "import pandas as pd\n",
    "import numpy as np\n",
    "import matplotlib.pyplot as plt\n",
    "import random\n",
    "from faker import Faker\n",
    "from datetime import datetime"
   ]
  },
  {
   "cell_type": "markdown",
   "id": "3e2be27e-fc36-4309-b95d-db4c6519d03f",
   "metadata": {},
   "source": [
    "###\n",
    "## PART 1: Creating Fake / Artificial Data"
   ]
  },
  {
   "cell_type": "code",
   "execution_count": 2,
   "id": "2c21cd1b-605c-4001-b95f-dd36fde7038d",
   "metadata": {
    "ExecuteTime": {
     "end_time": "2025-05-30T19:59:42.463075Z",
     "start_time": "2025-05-30T19:59:42.461533Z"
    }
   },
   "outputs": [],
   "source": [
    "# determining size of the dataset\n",
    "\n",
    "num_rows = 10000"
   ]
  },
  {
   "cell_type": "code",
   "execution_count": 3,
   "id": "6a821325-4f3c-425e-9887-84964a1c9070",
   "metadata": {
    "ExecuteTime": {
     "end_time": "2025-05-30T19:59:42.479603Z",
     "start_time": "2025-05-30T19:59:42.477872Z"
    }
   },
   "outputs": [],
   "source": [
    "# random choice of the country to work on\n",
    "\n",
    "locales = ['en_GB', 'tr_TR', 'no_NO', 'de_DE', 'pl_PL', 'da_DK', 'fr_FR', 'ro_RO', 'el_GR', 'pt_PT']\n",
    "ran_loc = random.choice(locales)"
   ]
  },
  {
   "cell_type": "code",
   "execution_count": 4,
   "id": "f90c5ae1-a58a-4150-b498-a99561aea124",
   "metadata": {
    "ExecuteTime": {
     "end_time": "2025-05-30T19:59:42.507699Z",
     "start_time": "2025-05-30T19:59:42.493980Z"
    }
   },
   "outputs": [],
   "source": [
    "# applying 'faker' library \n",
    "\n",
    "fake = Faker(ran_loc)"
   ]
  },
  {
   "cell_type": "markdown",
   "id": "50cf2004-a0ef-491e-998f-617e67319df1",
   "metadata": {},
   "source": [
    "#### Creating Cities"
   ]
  },
  {
   "cell_type": "code",
   "execution_count": 5,
   "id": "1389b1b2-90cf-40a8-9d78-88ddad55ac8d",
   "metadata": {
    "ExecuteTime": {
     "end_time": "2025-05-30T19:59:42.521765Z",
     "start_time": "2025-05-30T19:59:42.519892Z"
    }
   },
   "outputs": [],
   "source": [
    "city_set = []\n",
    "for i in range(30):\n",
    "    city = fake.city()\n",
    "    city_set.append(city)"
   ]
  },
  {
   "cell_type": "markdown",
   "id": "04a3d97c-a3b1-4fe3-8ec2-2de805597fb5",
   "metadata": {},
   "source": [
    "#### Creating Categories"
   ]
  },
  {
   "cell_type": "code",
   "execution_count": 6,
   "id": "5954f6d8-a908-4b3d-b5ce-cc8d7bb66992",
   "metadata": {
    "ExecuteTime": {
     "end_time": "2025-05-30T19:59:42.546057Z",
     "start_time": "2025-05-30T19:59:42.533628Z"
    }
   },
   "outputs": [],
   "source": [
    "category_set = []\n",
    "for i in range (0, num_rows):\n",
    "    category = fake.random_element(elements=(\"Apartment\", \"Private Room\", \"Studio\", \"Shared Room\"))\n",
    "    category_set .append(category)"
   ]
  },
  {
   "cell_type": "markdown",
   "id": "25be735a-1c09-41f1-948c-93e9152d51d5",
   "metadata": {},
   "source": [
    "#### Creating Prices"
   ]
  },
  {
   "cell_type": "code",
   "execution_count": 7,
   "id": "4c50e2b0-fefc-4058-83f3-d8a5d3833206",
   "metadata": {
    "ExecuteTime": {
     "end_time": "2025-05-30T19:59:42.559375Z",
     "start_time": "2025-05-30T19:59:42.557522Z"
    }
   },
   "outputs": [],
   "source": [
    "def prices(x, y, z):\n",
    "    price_set = []\n",
    "    for i in range(x):\n",
    "        price = fake.pyfloat(left_digits=None, right_digits=2, positive=0, min_value=y, max_value=z)\n",
    "        price_set.append(price)\n",
    "\n",
    "    return price_set"
   ]
  },
  {
   "cell_type": "code",
   "execution_count": 8,
   "id": "05197bd8-4ea1-47ab-8db6-40aa9c97b261",
   "metadata": {
    "ExecuteTime": {
     "end_time": "2025-05-30T19:59:42.594676Z",
     "start_time": "2025-05-30T19:59:42.571370Z"
    }
   },
   "outputs": [],
   "source": [
    "price_set_10 = prices(300, 0, 100)            # ultra-low prices\n",
    "price_set_100 = prices(2000, 100, 400)        # lower quartile\n",
    "price_set_1000 = prices(3500, 400, 1000)      # middle band\n",
    "price_set_5000 = prices(3000, 1000, 5000)     # upper quartile\n",
    "price_set_50000 = prices(200, 5000, 50000)    # rare high-end\n",
    "price_set_100000 = prices(2, 50000, 200000)   # single extreme outlier"
   ]
  },
  {
   "cell_type": "code",
   "execution_count": 9,
   "id": "2da5941d-03a6-4fdc-a61b-57dda502ab70",
   "metadata": {
    "ExecuteTime": {
     "end_time": "2025-05-30T19:59:42.608286Z",
     "start_time": "2025-05-30T19:59:42.606446Z"
    }
   },
   "outputs": [],
   "source": [
    "price_set = price_set_10 + price_set_100 + price_set_1000 + price_set_5000 + price_set_50000 + price_set_100000"
   ]
  },
  {
   "cell_type": "markdown",
   "id": "2de7638a-4f23-46af-a096-775038b5b034",
   "metadata": {},
   "source": [
    "#### Creating Sizes"
   ]
  },
  {
   "cell_type": "code",
   "execution_count": 10,
   "id": "5f0cb267-24ee-48f7-9830-d270b05aee36",
   "metadata": {
    "ExecuteTime": {
     "end_time": "2025-05-30T19:59:42.623269Z",
     "start_time": "2025-05-30T19:59:42.621405Z"
    }
   },
   "outputs": [],
   "source": [
    "def sizes(x, y, z):\n",
    "    size_set = []\n",
    "    for i in range(x):\n",
    "        size = fake.random_int(min=y, max=z)\n",
    "        size_set.append(size)\n",
    "\n",
    "    return size_set"
   ]
  },
  {
   "cell_type": "code",
   "execution_count": 11,
   "id": "845e4184-e1c5-4d6c-947f-bb146e127b3f",
   "metadata": {
    "ExecuteTime": {
     "end_time": "2025-05-30T19:59:42.643249Z",
     "start_time": "2025-05-30T19:59:42.635617Z"
    }
   },
   "outputs": [],
   "source": [
    "size_set_10 = sizes(300, 0, 20)          # very small (1–20)\n",
    "size_set_50 = sizes(1000, 20, 70)        # lower quartile\n",
    "size_set_100 = sizes(2000, 70, 120)      # middle range\n",
    "size_set_200 = sizes(900, 120, 250)      # larger sizes\n",
    "size_set_1000 = sizes(200, 250, 1000)    # rare large\n",
    "size_set_10000 = sizes(89, 1000, 10000)  # extreme outliers (match 99th–max)"
   ]
  },
  {
   "cell_type": "code",
   "execution_count": 12,
   "id": "faa2b0e9-9fcd-44ba-99e3-a81102a2efc7",
   "metadata": {
    "ExecuteTime": {
     "end_time": "2025-05-30T19:59:42.656296Z",
     "start_time": "2025-05-30T19:59:42.654746Z"
    }
   },
   "outputs": [],
   "source": [
    "size_set_num = size_set_10 + size_set_50 + size_set_100 + size_set_200 + size_set_1000 + size_set_10000"
   ]
  },
  {
   "cell_type": "code",
   "execution_count": 13,
   "id": "37a0db46-9586-4d13-85f2-10a289bfae7f",
   "metadata": {
    "ExecuteTime": {
     "end_time": "2025-05-30T19:59:42.670660Z",
     "start_time": "2025-05-30T19:59:42.668459Z"
    }
   },
   "outputs": [],
   "source": [
    "size_set_str = list(map(str, size_set_num))"
   ]
  },
  {
   "cell_type": "code",
   "execution_count": 14,
   "id": "5d6b4f1e-8635-45f2-afa3-8708205020ef",
   "metadata": {
    "ExecuteTime": {
     "end_time": "2025-05-30T19:59:42.684166Z",
     "start_time": "2025-05-30T19:59:42.682525Z"
    }
   },
   "outputs": [],
   "source": [
    "# adding blanks\n",
    "\n",
    "size_set_null = [\"null\"] * 700\n",
    "size_set_empty = [\"\"] * 301"
   ]
  },
  {
   "cell_type": "code",
   "execution_count": 15,
   "id": "a86c9165-babb-4b05-ae1d-d764e3ee7041",
   "metadata": {
    "ExecuteTime": {
     "end_time": "2025-05-30T19:59:42.699042Z",
     "start_time": "2025-05-30T19:59:42.697348Z"
    }
   },
   "outputs": [],
   "source": [
    "size_set = size_set_str + size_set_null + size_set_empty"
   ]
  },
  {
   "cell_type": "markdown",
   "id": "61a9b954-bded-41eb-ad60-a261906e58e9",
   "metadata": {},
   "source": [
    "#### Creating Dates"
   ]
  },
  {
   "cell_type": "code",
   "execution_count": 16,
   "id": "2b740063-86a5-486e-b661-7eb712292ccb",
   "metadata": {
    "ExecuteTime": {
     "end_time": "2025-05-30T19:59:42.776549Z",
     "start_time": "2025-05-30T19:59:42.712089Z"
    }
   },
   "outputs": [],
   "source": [
    "date_set = []\n",
    "for i in range(num_rows):\n",
    "    date_time = fake.date_time_between_dates(\n",
    "        datetime_start=datetime(2013, 1, 1, 0, 0, 0),\n",
    "        datetime_end=datetime(2017, 12, 31, 23, 59, 59)\n",
    "    ).replace(microsecond=0)\n",
    "    date_set.append(date_time)"
   ]
  },
  {
   "cell_type": "markdown",
   "id": "ee8e0fd8-f247-472e-b15a-50b509e72530",
   "metadata": {},
   "source": [
    "#### Creating Additional Values"
   ]
  },
  {
   "cell_type": "code",
   "execution_count": 17,
   "id": "f83ffc88-1532-44e3-9d0a-f501097f3bd7",
   "metadata": {
    "ExecuteTime": {
     "end_time": "2025-05-30T19:59:42.800593Z",
     "start_time": "2025-05-30T19:59:42.788549Z"
    }
   },
   "outputs": [],
   "source": [
    "add_set_1 = []\n",
    "for i in range (0, num_rows):\n",
    "    add_1 = fake.random_element(elements=(\"\", \"yes\", \"no\"))\n",
    "    add_set_1.append(add_1)"
   ]
  },
  {
   "cell_type": "code",
   "execution_count": 18,
   "id": "78885eba-e6b2-4647-b98a-774899852a30",
   "metadata": {
    "ExecuteTime": {
     "end_time": "2025-05-30T19:59:42.823979Z",
     "start_time": "2025-05-30T19:59:42.812139Z"
    }
   },
   "outputs": [],
   "source": [
    "add_set_2 = []\n",
    "for i in range (0, num_rows):\n",
    "    add_2 = fake.random_element(elements=(\"\", \"no\", \"private\", \"shared\"))\n",
    "    add_set_2.append(add_2)"
   ]
  },
  {
   "cell_type": "markdown",
   "id": "9042dc60-a247-49d1-8f72-6e8e41723de0",
   "metadata": {},
   "source": [
    "#### Populating and modifying dataset"
   ]
  },
  {
   "cell_type": "code",
   "execution_count": 19,
   "id": "9950b150-b8c5-417b-aaca-96b8c467468b",
   "metadata": {
    "ExecuteTime": {
     "end_time": "2025-05-30T19:59:42.836724Z",
     "start_time": "2025-05-30T19:59:42.835036Z"
    }
   },
   "outputs": [],
   "source": [
    "def pad_list(lst, num_rows):\n",
    "    return lst + [None] * (num_rows - len(lst))"
   ]
  },
  {
   "cell_type": "code",
   "execution_count": 20,
   "id": "b011f219-3952-40f3-8c0a-5fd5ef05cbfc",
   "metadata": {
    "ExecuteTime": {
     "end_time": "2025-05-30T19:59:42.871952Z",
     "start_time": "2025-05-30T19:59:42.848457Z"
    }
   },
   "outputs": [],
   "source": [
    "city = [\n",
    "    random.choice(city_set) if random.random() < 0.952 else None\n",
    "    for _ in range(num_rows)\n",
    "]\n",
    "\n",
    "category = [\n",
    "    random.choice(category_set) if random.random() < 0.950 else None\n",
    "    for _ in range(num_rows)\n",
    "]\n",
    "\n",
    "country_code = ran_loc[:2]\n",
    "\n",
    "created_at = [\n",
    "    random.choice(date_set)\n",
    "    for _ in range(num_rows)\n",
    "]\n",
    "\n",
    "price = [\n",
    "    random.choice(price_set)\n",
    "    for _ in range(num_rows)\n",
    "]\n",
    "\n",
    "total_size = [\n",
    "    random.choice(size_set) if random.random() < 0.81 else None\n",
    "    for _ in range(num_rows)\n",
    "]\n",
    "\n",
    "furnished = [\n",
    "    random.choice(add_set_1) if random.random() < 0.954 else None\n",
    "    for _ in range(num_rows)\n",
    "]\n",
    "\n",
    "registration_possible = [\n",
    "    random.choice(add_set_1) if random.random() < 0.8 else None\n",
    "    for _ in range(num_rows)\n",
    "]\n",
    "\n",
    "washing_machine = [\n",
    "    random.choice(add_set_1) if random.random() < 0.947 else None\n",
    "    for _ in range(num_rows)\n",
    "]\n",
    "\n",
    "tv = [\n",
    "    random.choice(add_set_1) if random.random() < 0.951 else None\n",
    "    for _ in range(num_rows)\n",
    "]\n",
    "\n",
    "balcony = [\n",
    "    random.choice(add_set_1) if random.random() < 0.4 else None\n",
    "    for _ in range(num_rows)\n",
    "]\n",
    "\n",
    "garden = [\n",
    "    random.choice(add_set_1) if random.random() < 0.938 else None\n",
    "    for _ in range(num_rows)\n",
    "]\n",
    "\n",
    "terrace = [\n",
    "    random.choice(add_set_1) if random.random() < 0.39 else None\n",
    "    for _ in range(num_rows)\n",
    "]"
   ]
  },
  {
   "cell_type": "code",
   "execution_count": 21,
   "id": "e9a3fd51-8961-4ff9-840a-e2725bf7e84b",
   "metadata": {
    "ExecuteTime": {
     "end_time": "2025-05-30T19:59:42.885304Z",
     "start_time": "2025-05-30T19:59:42.883030Z"
    }
   },
   "outputs": [],
   "source": [
    "data = {\n",
    "        \"city\": city,\n",
    "        \"category\": category,\n",
    "        \"country_code\": country_code,\n",
    "        \"created_at\": created_at,\n",
    "        \"price\": price,\n",
    "        \"total_size\": total_size,\n",
    "        \"furnished\": furnished,\n",
    "        \"registration_possible\": registration_possible,\n",
    "        \"washing_machine\": washing_machine,\n",
    "        \"tv\": tv,\n",
    "        \"balcony\": balcony,\n",
    "        \"garden\": garden,\n",
    "        \"terrace\": terrace\n",
    "}"
   ]
  },
  {
   "cell_type": "code",
   "execution_count": 22,
   "id": "5ff8b3bf-a2ad-4f40-b2ed-5a3ed43d717c",
   "metadata": {
    "ExecuteTime": {
     "end_time": "2025-05-30T19:59:42.906014Z",
     "start_time": "2025-05-30T19:59:42.897062Z"
    }
   },
   "outputs": [],
   "source": [
    "df = pd.DataFrame(data)"
   ]
  },
  {
   "cell_type": "code",
   "execution_count": 23,
   "id": "c9e42b71-f27b-44c4-87d8-c1ba4790dd1f",
   "metadata": {
    "ExecuteTime": {
     "end_time": "2025-05-30T19:59:42.928652Z",
     "start_time": "2025-05-30T19:59:42.917871Z"
    }
   },
   "outputs": [],
   "source": [
    "columns_to_format = [\n",
    "    \"total_size\",\n",
    "    \"furnished\", \n",
    "    \"registration_possible\", \n",
    "    \"washing_machine\", \n",
    "    \"tv\", \n",
    "    \"balcony\", \n",
    "    \"garden\", \n",
    "    \"terrace\"\n",
    "]\n",
    "\n",
    "for col in columns_to_format:\n",
    "    if df[col] is not None:\n",
    "        df[col] = '\"' + df[col] + '\"'"
   ]
  },
  {
   "cell_type": "code",
   "execution_count": 24,
   "id": "32c34b20-ea1d-4d63-80fc-3e088ff9750f",
   "metadata": {
    "ExecuteTime": {
     "end_time": "2025-05-30T19:59:42.945520Z",
     "start_time": "2025-05-30T19:59:42.939536Z"
    }
   },
   "outputs": [],
   "source": [
    "df = df.fillna(value=np.nan)"
   ]
  },
  {
   "cell_type": "markdown",
   "id": "62f6f28e-a2ab-4b47-9733-b00f625e1455",
   "metadata": {},
   "source": [
    "###\n",
    "## PART 2: Exploration"
   ]
  },
  {
   "cell_type": "markdown",
   "id": "2e876777-365e-4084-880e-91e69fabd40d",
   "metadata": {},
   "source": [
    "<p style='background-color: #253d7a; margin-top:20px; padding:5px 15px; font-weight: 500; color: white;'>Analyzing Acquired Data</p>"
   ]
  },
  {
   "cell_type": "code",
   "execution_count": 25,
   "id": "6508e3b3-08e5-408f-8167-32b2b1ed3550",
   "metadata": {
    "ExecuteTime": {
     "end_time": "2025-05-30T19:59:42.962701Z",
     "start_time": "2025-05-30T19:59:42.956795Z"
    }
   },
   "outputs": [
    {
     "name": "stdout",
     "output_type": "stream",
     "text": [
      "<class 'pandas.core.frame.DataFrame'>\n",
      "RangeIndex: 10000 entries, 0 to 9999\n",
      "Data columns (total 13 columns):\n",
      " #   Column                 Non-Null Count  Dtype         \n",
      "---  ------                 --------------  -----         \n",
      " 0   city                   9495 non-null   object        \n",
      " 1   category               9505 non-null   object        \n",
      " 2   country_code           10000 non-null  object        \n",
      " 3   created_at             10000 non-null  datetime64[ns]\n",
      " 4   price                  10000 non-null  float64       \n",
      " 5   total_size             8088 non-null   object        \n",
      " 6   furnished              9559 non-null   object        \n",
      " 7   registration_possible  8020 non-null   object        \n",
      " 8   washing_machine        9441 non-null   object        \n",
      " 9   tv                     9507 non-null   object        \n",
      " 10  balcony                4048 non-null   object        \n",
      " 11  garden                 9387 non-null   object        \n",
      " 12  terrace                3944 non-null   object        \n",
      "dtypes: datetime64[ns](1), float64(1), object(11)\n",
      "memory usage: 1015.8+ KB\n"
     ]
    }
   ],
   "source": [
    "# General Info\n",
    "\n",
    "df.info()"
   ]
  },
  {
   "cell_type": "code",
   "execution_count": 26,
   "id": "eda281b2-286f-4ee0-a25c-cc42b5ff20b3",
   "metadata": {
    "ExecuteTime": {
     "end_time": "2025-05-30T19:59:42.980895Z",
     "start_time": "2025-05-30T19:59:42.975946Z"
    }
   },
   "outputs": [
    {
     "data": {
      "text/plain": [
       "city                      505\n",
       "category                  495\n",
       "country_code                0\n",
       "created_at                  0\n",
       "price                       0\n",
       "total_size               1912\n",
       "furnished                 441\n",
       "registration_possible    1980\n",
       "washing_machine           559\n",
       "tv                        493\n",
       "balcony                  5952\n",
       "garden                    613\n",
       "terrace                  6056\n",
       "dtype: int64"
      ]
     },
     "execution_count": 26,
     "metadata": {},
     "output_type": "execute_result"
    }
   ],
   "source": [
    "# Number of Missing Values\n",
    "\n",
    "df.isnull().sum()"
   ]
  },
  {
   "cell_type": "code",
   "execution_count": 27,
   "id": "5c5e8cbb-2884-4dbd-aee0-6e6aae826045",
   "metadata": {
    "ExecuteTime": {
     "end_time": "2025-05-30T19:59:43.016301Z",
     "start_time": "2025-05-30T19:59:43.012029Z"
    }
   },
   "outputs": [
    {
     "data": {
      "text/html": [
       "<div>\n",
       "<style scoped>\n",
       "    .dataframe tbody tr th:only-of-type {\n",
       "        vertical-align: middle;\n",
       "    }\n",
       "\n",
       "    .dataframe tbody tr th {\n",
       "        vertical-align: top;\n",
       "    }\n",
       "\n",
       "    .dataframe thead th {\n",
       "        text-align: right;\n",
       "    }\n",
       "</style>\n",
       "<table border=\"1\" class=\"dataframe\">\n",
       "  <thead>\n",
       "    <tr style=\"text-align: right;\">\n",
       "      <th></th>\n",
       "      <th>city</th>\n",
       "      <th>category</th>\n",
       "      <th>country_code</th>\n",
       "      <th>created_at</th>\n",
       "      <th>price</th>\n",
       "      <th>total_size</th>\n",
       "      <th>furnished</th>\n",
       "      <th>registration_possible</th>\n",
       "      <th>washing_machine</th>\n",
       "      <th>tv</th>\n",
       "      <th>balcony</th>\n",
       "      <th>garden</th>\n",
       "      <th>terrace</th>\n",
       "    </tr>\n",
       "  </thead>\n",
       "  <tbody>\n",
       "    <tr>\n",
       "      <th>6663</th>\n",
       "      <td>Afumati</td>\n",
       "      <td>Studio</td>\n",
       "      <td>ro</td>\n",
       "      <td>2016-01-29 21:50:49</td>\n",
       "      <td>764.87</td>\n",
       "      <td>\"159\"</td>\n",
       "      <td>\"yes\"</td>\n",
       "      <td>NaN</td>\n",
       "      <td>\"yes\"</td>\n",
       "      <td>\"\"</td>\n",
       "      <td>NaN</td>\n",
       "      <td>\"no\"</td>\n",
       "      <td>NaN</td>\n",
       "    </tr>\n",
       "    <tr>\n",
       "      <th>6572</th>\n",
       "      <td>Boldesti-Scaeni</td>\n",
       "      <td>Private Room</td>\n",
       "      <td>ro</td>\n",
       "      <td>2016-07-02 13:09:09</td>\n",
       "      <td>230.73</td>\n",
       "      <td>\"null\"</td>\n",
       "      <td>\"\"</td>\n",
       "      <td>\"no\"</td>\n",
       "      <td>\"no\"</td>\n",
       "      <td>\"no\"</td>\n",
       "      <td>NaN</td>\n",
       "      <td>\"yes\"</td>\n",
       "      <td>NaN</td>\n",
       "    </tr>\n",
       "    <tr>\n",
       "      <th>3852</th>\n",
       "      <td>Fetesti-Gara</td>\n",
       "      <td>Private Room</td>\n",
       "      <td>ro</td>\n",
       "      <td>2017-12-13 22:43:55</td>\n",
       "      <td>504.20</td>\n",
       "      <td>\"83\"</td>\n",
       "      <td>\"yes\"</td>\n",
       "      <td>\"yes\"</td>\n",
       "      <td>\"yes\"</td>\n",
       "      <td>\"yes\"</td>\n",
       "      <td>NaN</td>\n",
       "      <td>\"yes\"</td>\n",
       "      <td>\"yes\"</td>\n",
       "    </tr>\n",
       "    <tr>\n",
       "      <th>1755</th>\n",
       "      <td>Calafat</td>\n",
       "      <td>Shared Room</td>\n",
       "      <td>ro</td>\n",
       "      <td>2014-05-26 09:24:08</td>\n",
       "      <td>4278.67</td>\n",
       "      <td>\"89\"</td>\n",
       "      <td>\"\"</td>\n",
       "      <td>\"yes\"</td>\n",
       "      <td>NaN</td>\n",
       "      <td>\"\"</td>\n",
       "      <td>\"no\"</td>\n",
       "      <td>\"\"</td>\n",
       "      <td>NaN</td>\n",
       "    </tr>\n",
       "    <tr>\n",
       "      <th>247</th>\n",
       "      <td>Brad</td>\n",
       "      <td>Shared Room</td>\n",
       "      <td>ro</td>\n",
       "      <td>2013-11-19 17:10:36</td>\n",
       "      <td>1205.43</td>\n",
       "      <td>\"108\"</td>\n",
       "      <td>\"\"</td>\n",
       "      <td>\"\"</td>\n",
       "      <td>\"no\"</td>\n",
       "      <td>\"\"</td>\n",
       "      <td>\"yes\"</td>\n",
       "      <td>\"no\"</td>\n",
       "      <td>\"\"</td>\n",
       "    </tr>\n",
       "    <tr>\n",
       "      <th>3769</th>\n",
       "      <td>Afumati</td>\n",
       "      <td>Private Room</td>\n",
       "      <td>ro</td>\n",
       "      <td>2015-04-22 12:32:21</td>\n",
       "      <td>2351.58</td>\n",
       "      <td>\"249\"</td>\n",
       "      <td>\"yes\"</td>\n",
       "      <td>NaN</td>\n",
       "      <td>\"\"</td>\n",
       "      <td>\"no\"</td>\n",
       "      <td>\"no\"</td>\n",
       "      <td>\"no\"</td>\n",
       "      <td>NaN</td>\n",
       "    </tr>\n",
       "    <tr>\n",
       "      <th>135</th>\n",
       "      <td>NaN</td>\n",
       "      <td>Apartment</td>\n",
       "      <td>ro</td>\n",
       "      <td>2017-11-07 20:42:37</td>\n",
       "      <td>804.97</td>\n",
       "      <td>\"null\"</td>\n",
       "      <td>\"no\"</td>\n",
       "      <td>\"no\"</td>\n",
       "      <td>\"no\"</td>\n",
       "      <td>\"yes\"</td>\n",
       "      <td>NaN</td>\n",
       "      <td>\"no\"</td>\n",
       "      <td>NaN</td>\n",
       "    </tr>\n",
       "    <tr>\n",
       "      <th>4905</th>\n",
       "      <td>Rasnov</td>\n",
       "      <td>Apartment</td>\n",
       "      <td>ro</td>\n",
       "      <td>2013-08-23 09:29:44</td>\n",
       "      <td>3914.47</td>\n",
       "      <td>\"null\"</td>\n",
       "      <td>\"no\"</td>\n",
       "      <td>\"no\"</td>\n",
       "      <td>\"yes\"</td>\n",
       "      <td>\"no\"</td>\n",
       "      <td>NaN</td>\n",
       "      <td>\"no\"</td>\n",
       "      <td>\"\"</td>\n",
       "    </tr>\n",
       "    <tr>\n",
       "      <th>5339</th>\n",
       "      <td>Campia Turzii</td>\n",
       "      <td>Shared Room</td>\n",
       "      <td>ro</td>\n",
       "      <td>2013-11-06 18:45:13</td>\n",
       "      <td>210.99</td>\n",
       "      <td>\"10\"</td>\n",
       "      <td>\"yes\"</td>\n",
       "      <td>NaN</td>\n",
       "      <td>\"yes\"</td>\n",
       "      <td>\"\"</td>\n",
       "      <td>NaN</td>\n",
       "      <td>\"no\"</td>\n",
       "      <td>NaN</td>\n",
       "    </tr>\n",
       "    <tr>\n",
       "      <th>9751</th>\n",
       "      <td>Boldesti-Scaeni</td>\n",
       "      <td>Private Room</td>\n",
       "      <td>ro</td>\n",
       "      <td>2015-09-05 22:13:57</td>\n",
       "      <td>176.37</td>\n",
       "      <td>\"35\"</td>\n",
       "      <td>\"yes\"</td>\n",
       "      <td>NaN</td>\n",
       "      <td>NaN</td>\n",
       "      <td>\"\"</td>\n",
       "      <td>NaN</td>\n",
       "      <td>\"no\"</td>\n",
       "      <td>\"\"</td>\n",
       "    </tr>\n",
       "  </tbody>\n",
       "</table>\n",
       "</div>"
      ],
      "text/plain": [
       "                 city      category country_code          created_at    price  \\\n",
       "6663          Afumati        Studio           ro 2016-01-29 21:50:49   764.87   \n",
       "6572  Boldesti-Scaeni  Private Room           ro 2016-07-02 13:09:09   230.73   \n",
       "3852     Fetesti-Gara  Private Room           ro 2017-12-13 22:43:55   504.20   \n",
       "1755          Calafat   Shared Room           ro 2014-05-26 09:24:08  4278.67   \n",
       "247              Brad   Shared Room           ro 2013-11-19 17:10:36  1205.43   \n",
       "3769          Afumati  Private Room           ro 2015-04-22 12:32:21  2351.58   \n",
       "135               NaN     Apartment           ro 2017-11-07 20:42:37   804.97   \n",
       "4905           Rasnov     Apartment           ro 2013-08-23 09:29:44  3914.47   \n",
       "5339    Campia Turzii   Shared Room           ro 2013-11-06 18:45:13   210.99   \n",
       "9751  Boldesti-Scaeni  Private Room           ro 2015-09-05 22:13:57   176.37   \n",
       "\n",
       "     total_size furnished registration_possible washing_machine     tv  \\\n",
       "6663      \"159\"     \"yes\"                   NaN           \"yes\"     \"\"   \n",
       "6572     \"null\"        \"\"                  \"no\"            \"no\"   \"no\"   \n",
       "3852       \"83\"     \"yes\"                 \"yes\"           \"yes\"  \"yes\"   \n",
       "1755       \"89\"        \"\"                 \"yes\"             NaN     \"\"   \n",
       "247       \"108\"        \"\"                    \"\"            \"no\"     \"\"   \n",
       "3769      \"249\"     \"yes\"                   NaN              \"\"   \"no\"   \n",
       "135      \"null\"      \"no\"                  \"no\"            \"no\"  \"yes\"   \n",
       "4905     \"null\"      \"no\"                  \"no\"           \"yes\"   \"no\"   \n",
       "5339       \"10\"     \"yes\"                   NaN           \"yes\"     \"\"   \n",
       "9751       \"35\"     \"yes\"                   NaN             NaN     \"\"   \n",
       "\n",
       "     balcony garden terrace  \n",
       "6663     NaN   \"no\"     NaN  \n",
       "6572     NaN  \"yes\"     NaN  \n",
       "3852     NaN  \"yes\"   \"yes\"  \n",
       "1755    \"no\"     \"\"     NaN  \n",
       "247    \"yes\"   \"no\"      \"\"  \n",
       "3769    \"no\"   \"no\"     NaN  \n",
       "135      NaN   \"no\"     NaN  \n",
       "4905     NaN   \"no\"      \"\"  \n",
       "5339     NaN   \"no\"     NaN  \n",
       "9751     NaN   \"no\"      \"\"  "
      ]
     },
     "execution_count": 27,
     "metadata": {},
     "output_type": "execute_result"
    }
   ],
   "source": [
    "# Random Sample\n",
    "\n",
    "df.sample(10)"
   ]
  },
  {
   "cell_type": "code",
   "execution_count": 28,
   "id": "697c1176-1cec-4453-93b2-dceea5fab342",
   "metadata": {
    "ExecuteTime": {
     "end_time": "2025-05-30T19:59:43.063308Z",
     "start_time": "2025-05-30T19:59:43.055448Z"
    }
   },
   "outputs": [
    {
     "name": "stdout",
     "output_type": "stream",
     "text": [
      "\n",
      "--------------------------\n",
      "'value_counts' for column: \n",
      "city\n",
      "Afumati            657\n",
      "Medgidia           655\n",
      "NaN                505\n",
      "Mogosoaia          349\n",
      "Calafat            340\n",
      "Rasnov             338\n",
      "Rosiori de Vede    336\n",
      "Strehaia           334\n",
      "Toplita            325\n",
      "Focsani            324\n",
      "Targu Frumos       322\n",
      "Harlau             322\n",
      "Boldesti-Scaeni    321\n",
      "Calarasi           319\n",
      "Lupeni             319\n",
      "Sovata             315\n",
      "Barlad             314\n",
      "Comanesti          314\n",
      "Prejmer            309\n",
      "Fetesti-Gara       306\n",
      "Dabuleni           304\n",
      "Brad               303\n",
      "Iernut             302\n",
      "Calan              302\n",
      "Titu               298\n",
      "Pancota            298\n",
      "Oradea             293\n",
      "Modelu             291\n",
      "Campia Turzii      285\n",
      "Name: count, dtype: int64\n",
      "\n",
      "--------------------------\n",
      "'value_counts' for column: \n",
      "category\n",
      "Private Room    2433\n",
      "Apartment       2412\n",
      "Studio          2403\n",
      "Shared Room     2257\n",
      "NaN              495\n",
      "Name: count, dtype: int64\n",
      "\n",
      "--------------------------\n",
      "'value_counts' for column: \n",
      "country_code\n",
      "ro    10000\n",
      "Name: count, dtype: int64\n",
      "\n",
      "--------------------------\n",
      "'value_counts' for column: \n",
      "created_at\n",
      "2017-10-06 06:09:58    6\n",
      "2016-12-09 15:40:50    6\n",
      "2016-06-19 10:37:45    6\n",
      "2014-10-22 11:36:45    5\n",
      "2013-09-05 13:42:31    5\n",
      "                      ..\n",
      "2013-11-03 20:20:40    1\n",
      "2017-01-05 07:12:15    1\n",
      "2016-02-06 05:34:55    1\n",
      "2015-03-03 15:56:40    1\n",
      "2015-07-29 11:30:03    1\n",
      "Name: count, Length: 6345, dtype: int64\n",
      "\n",
      "--------------------------\n",
      "'value_counts' for column: \n",
      "price\n",
      "562.82     7\n",
      "257.21     7\n",
      "382.73     6\n",
      "810.26     6\n",
      "452.36     6\n",
      "          ..\n",
      "985.47     1\n",
      "4896.59    1\n",
      "450.62     1\n",
      "2548.22    1\n",
      "129.54     1\n",
      "Name: count, Length: 5987, dtype: int64\n",
      "\n",
      "--------------------------\n",
      "'value_counts' for column: \n",
      "total_size\n",
      "NaN       1912\n",
      "\"null\"    1054\n",
      "\"\"         414\n",
      "\"120\"       98\n",
      "\"72\"        94\n",
      "          ... \n",
      "\"624\"        1\n",
      "\"722\"        1\n",
      "\"601\"        1\n",
      "\"1906\"       1\n",
      "\"2799\"       1\n",
      "Name: count, Length: 457, dtype: int64\n",
      "\n",
      "--------------------------\n",
      "'value_counts' for column: \n",
      "furnished\n",
      "\"no\"     3235\n",
      "\"\"       3164\n",
      "\"yes\"    3160\n",
      "NaN       441\n",
      "Name: count, dtype: int64\n",
      "\n",
      "--------------------------\n",
      "'value_counts' for column: \n",
      "registration_possible\n",
      "\"no\"     2714\n",
      "\"\"       2686\n",
      "\"yes\"    2620\n",
      "NaN      1980\n",
      "Name: count, dtype: int64\n",
      "\n",
      "--------------------------\n",
      "'value_counts' for column: \n",
      "washing_machine\n",
      "\"no\"     3243\n",
      "\"yes\"    3123\n",
      "\"\"       3075\n",
      "NaN       559\n",
      "Name: count, dtype: int64\n",
      "\n",
      "--------------------------\n",
      "'value_counts' for column: \n",
      "tv\n",
      "\"yes\"    3200\n",
      "\"no\"     3170\n",
      "\"\"       3137\n",
      "NaN       493\n",
      "Name: count, dtype: int64\n",
      "\n",
      "--------------------------\n",
      "'value_counts' for column: \n",
      "balcony\n",
      "NaN      5952\n",
      "\"yes\"    1404\n",
      "\"no\"     1331\n",
      "\"\"       1313\n",
      "Name: count, dtype: int64\n",
      "\n",
      "--------------------------\n",
      "'value_counts' for column: \n",
      "garden\n",
      "\"no\"     3204\n",
      "\"yes\"    3142\n",
      "\"\"       3041\n",
      "NaN       613\n",
      "Name: count, dtype: int64\n",
      "\n",
      "--------------------------\n",
      "'value_counts' for column: \n",
      "terrace\n",
      "NaN      6056\n",
      "\"yes\"    1361\n",
      "\"no\"     1310\n",
      "\"\"       1273\n",
      "Name: count, dtype: int64\n"
     ]
    }
   ],
   "source": [
    "# Looping Through Columns to Inspect Data Types and Values\n",
    "\n",
    "for col in df.columns:\n",
    "    print(f\"\\n--------------------------\\n'value_counts' for column: \")\n",
    "    print(df[col].value_counts(dropna=False))"
   ]
  },
  {
   "cell_type": "markdown",
   "id": "81a01ca3-d37b-4539-843a-36711875bcd0",
   "metadata": {
    "jp-MarkdownHeadingCollapsed": true
   },
   "source": [
    "####\n",
    "#### Summary:\n",
    "\n",
    "The acquired dataset contained a significant number of inconsistencies across multiple dimensions:\n",
    "\n",
    "- Data types were poorly structured, with most columns stored as object, regardless of whether they contained text, numeric values, or booleans.\n",
    "- Text fields were inconsistently formatted, appearing either as plain strings or enclosed in quotation marks.\n",
    "- Numerical columns such as total_size were also stored as strings.\n",
    "- Missing values were prevalent across several key columns, appearing as NaN or whitespace (\" \").\n",
    "- The total_size and price fields included outliers and logically invalid values (e.g. 1 m² private rooms or 10 000 m² shared rooms).\n",
    "- The dataset lacked enforced standardization, requiring manual data type conversions, normalization of string fields, and detailed handling of null or corrupted entries.\n",
    "\n",
    "To prepare the data for analysis, extensive cleaning was necessary, including type conversions, deduplication, normalization of text fields, imputation strategies, and outlier handling."
   ]
  },
  {
   "cell_type": "markdown",
   "id": "27164272-fdd7-413b-a1d7-2569bd836916",
   "metadata": {},
   "source": [
    "###\n",
    "## PART 3: Data Cleaning And Preparing For Further Analysis"
   ]
  },
  {
   "cell_type": "markdown",
   "id": "32d55a84-f1a1-4b92-b48c-d26c37cc2931",
   "metadata": {},
   "source": [
    "<p style='background-color: #253d7a; margin-top:20px; padding:5px 15px; font-weight: 500; color: white;'>Dropping Unnecessary Columns</p>"
   ]
  },
  {
   "cell_type": "code",
   "execution_count": 29,
   "id": "c9bf643f-917d-46b6-a08e-3eeae95d698c",
   "metadata": {
    "ExecuteTime": {
     "end_time": "2025-05-30T19:59:43.116819Z",
     "start_time": "2025-05-30T19:59:43.113681Z"
    }
   },
   "outputs": [],
   "source": [
    "df = df.drop('country_code', axis=1)"
   ]
  },
  {
   "cell_type": "markdown",
   "id": "f42c6727-57f1-4244-99e4-9c54afaa27b4",
   "metadata": {},
   "source": [
    "<p style='background-color: #253d7a; margin-top:20px; padding:5px 15px; font-weight: 500; color: white;'>Removing Duplicates</p>"
   ]
  },
  {
   "cell_type": "code",
   "execution_count": 30,
   "id": "c3b5f97c-16c3-48a8-adcf-16989906c7b8",
   "metadata": {
    "ExecuteTime": {
     "end_time": "2025-05-30T19:59:43.147225Z",
     "start_time": "2025-05-30T19:59:43.143531Z"
    }
   },
   "outputs": [
    {
     "name": "stdout",
     "output_type": "stream",
     "text": [
      "There are 0 duplicated rows.\n"
     ]
    }
   ],
   "source": [
    "# Checking for Duplicates\n",
    "\n",
    "veryfication_columns = ['created_at', 'city', 'price', 'category', 'total_size']\n",
    "\n",
    "n_dupes = df.duplicated(subset=veryfication_columns, keep='first').sum()\n",
    "print(f\"There are {n_dupes} duplicated rows.\")"
   ]
  },
  {
   "cell_type": "code",
   "execution_count": 31,
   "id": "3be0338c-59f4-44f9-907d-f4162f904773",
   "metadata": {
    "ExecuteTime": {
     "end_time": "2025-05-30T19:59:43.177600Z",
     "start_time": "2025-05-30T19:59:43.172545Z"
    }
   },
   "outputs": [],
   "source": [
    "# Dropping Duplicates\n",
    "\n",
    "df = df.drop_duplicates(subset=veryfication_columns, keep='first')"
   ]
  },
  {
   "cell_type": "markdown",
   "id": "19157d0c-2a6a-4472-b330-f344d4fb5433",
   "metadata": {},
   "source": [
    "<p style='background-color: #253d7a; margin-top:20px; padding:5px 15px; font-weight: 500; color: white;'>Changing Data Types</p>"
   ]
  },
  {
   "cell_type": "code",
   "execution_count": 32,
   "id": "f2353e2f-b4ab-471f-aea4-0bb70185b3bc",
   "metadata": {
    "ExecuteTime": {
     "end_time": "2025-05-30T19:59:43.205293Z",
     "start_time": "2025-05-30T19:59:43.192787Z"
    }
   },
   "outputs": [],
   "source": [
    "# Removing Empty Strings and Whitespace from Data\n",
    "\n",
    "for col in df.select_dtypes(include='object'):\n",
    "    df[col] = df[col].astype(str).str.strip('\"')"
   ]
  },
  {
   "cell_type": "code",
   "execution_count": 33,
   "id": "61a4e9a2-f223-458b-bd5f-a146f87c221c",
   "metadata": {
    "ExecuteTime": {
     "end_time": "2025-05-30T19:59:43.220399Z",
     "start_time": "2025-05-30T19:59:43.216447Z"
    }
   },
   "outputs": [],
   "source": [
    "# Changing Data Type to String\n",
    "\n",
    "strings_to_change = ['city', 'category', 'balcony', 'garden', 'terrace']\n",
    "df[strings_to_change] = df[strings_to_change].astype(\"string\")"
   ]
  },
  {
   "cell_type": "code",
   "execution_count": 34,
   "id": "fb5771b6-2416-4251-8cbb-039f7dd42ddd",
   "metadata": {
    "ExecuteTime": {
     "end_time": "2025-05-30T19:59:43.241547Z",
     "start_time": "2025-05-30T19:59:43.231151Z"
    }
   },
   "outputs": [],
   "source": [
    "# Changing Data Type to Boolean\n",
    "\n",
    "bool_to_change = ['furnished', 'registration_possible', 'washing_machine', 'tv']\n",
    "bool_map = {'yes': True, 'no': False}\n",
    "\n",
    "for col in bool_to_change:\n",
    "    df[col] = df[col].str.lower().map(bool_map)\n",
    "    \n",
    "df[bool_to_change] = df[bool_to_change].astype(\"boolean\")"
   ]
  },
  {
   "cell_type": "code",
   "execution_count": 35,
   "id": "246d1eca-b020-4d71-8312-94498c2460b4",
   "metadata": {
    "ExecuteTime": {
     "end_time": "2025-05-30T19:59:43.259209Z",
     "start_time": "2025-05-30T19:59:43.252345Z"
    }
   },
   "outputs": [],
   "source": [
    "# Changing Data Type to Integer\n",
    "\n",
    "df['total_size'] = (\n",
    "    df['total_size']\n",
    "    .astype(str)\n",
    "    .replace('nan', np.nan)                       \n",
    "    .replace(r'^\\s*$', np.nan, regex=True)\n",
    ")\n",
    "\n",
    "df['total_size'] = pd.to_numeric(df['total_size'], errors='coerce')\n",
    "df['total_size'] = df['total_size'].astype('Int64')"
   ]
  },
  {
   "cell_type": "code",
   "execution_count": 36,
   "id": "03d10b2e-bade-492e-a535-26e996c44b7c",
   "metadata": {
    "ExecuteTime": {
     "end_time": "2025-05-30T19:59:43.275234Z",
     "start_time": "2025-05-30T19:59:43.270348Z"
    }
   },
   "outputs": [],
   "source": [
    "# Converting to Date Format\n",
    "\n",
    "df['created_at'] = pd.to_datetime(df['created_at'], errors='coerce')"
   ]
  },
  {
   "cell_type": "code",
   "execution_count": 37,
   "id": "e637fe49-9af5-4b7b-bb5f-9ccf4b036929",
   "metadata": {
    "ExecuteTime": {
     "end_time": "2025-05-30T19:59:43.291672Z",
     "start_time": "2025-05-30T19:59:43.286748Z"
    }
   },
   "outputs": [
    {
     "name": "stdout",
     "output_type": "stream",
     "text": [
      "<class 'pandas.core.frame.DataFrame'>\n",
      "RangeIndex: 10000 entries, 0 to 9999\n",
      "Data columns (total 12 columns):\n",
      " #   Column                 Non-Null Count  Dtype         \n",
      "---  ------                 --------------  -----         \n",
      " 0   city                   10000 non-null  string        \n",
      " 1   category               10000 non-null  string        \n",
      " 2   created_at             10000 non-null  datetime64[ns]\n",
      " 3   price                  10000 non-null  float64       \n",
      " 4   total_size             6620 non-null   Int64         \n",
      " 5   furnished              6395 non-null   boolean       \n",
      " 6   registration_possible  5334 non-null   boolean       \n",
      " 7   washing_machine        6366 non-null   boolean       \n",
      " 8   tv                     6370 non-null   boolean       \n",
      " 9   balcony                10000 non-null  string        \n",
      " 10  garden                 10000 non-null  string        \n",
      " 11  terrace                10000 non-null  string        \n",
      "dtypes: Int64(1), boolean(4), datetime64[ns](1), float64(1), string(5)\n",
      "memory usage: 713.0 KB\n"
     ]
    }
   ],
   "source": [
    "# Verifying Changes\n",
    "\n",
    "df.info()"
   ]
  },
  {
   "cell_type": "markdown",
   "id": "d0637e06-3460-4473-a8bf-f76994657dab",
   "metadata": {},
   "source": [
    "<p style='background-color: #253d7a; margin-top:20px; padding:5px 15px; font-weight: 500; color: white;'>Unifying Missing Values</p>"
   ]
  },
  {
   "cell_type": "code",
   "execution_count": 38,
   "id": "1fcb5787-bf84-4dbd-9bb2-827b1de15e17",
   "metadata": {
    "ExecuteTime": {
     "end_time": "2025-05-30T19:59:43.334889Z",
     "start_time": "2025-05-30T19:59:43.305499Z"
    }
   },
   "outputs": [],
   "source": [
    "# Replacing All Nulls and Empty Strings with <NA>\n",
    "\n",
    "common_nulls = [\"nan\", \"nat\", \"none\", \"null\", \"n/a\", \"missing\"]\n",
    "\n",
    "for col in df.select_dtypes(include='string'):\n",
    "    df[col] = (\n",
    "        df[col]\n",
    "        .replace(common_nulls, pd.NA)                \n",
    "        .replace(r'^\\s*$', pd.NA, regex=True)      \n",
    "    )"
   ]
  },
  {
   "cell_type": "markdown",
   "id": "3508b2e4-396f-4bc5-9ea8-6a583e1715a9",
   "metadata": {},
   "source": [
    "<p style='background-color: #253d7a; margin-top:20px; padding:5px 15px; font-weight: 500; color: white;'>Removing Non-Usable Entries</p>"
   ]
  },
  {
   "cell_type": "markdown",
   "id": "f0c61ac4-bef3-4b40-9c93-bebdd0b99aab",
   "metadata": {},
   "source": [
    "Rows lacking both city (and subsequently category) were dropped because they cannot contribute to geographic or categorical analyses. Price was imputed only when both city and category were present, using the city‑category median, which preserves data volume without distorting local price distributions."
   ]
  },
  {
   "cell_type": "code",
   "execution_count": 39,
   "id": "3345a297-de67-406f-aa54-6340e72c71ee",
   "metadata": {
    "ExecuteTime": {
     "end_time": "2025-05-30T19:59:43.358484Z",
     "start_time": "2025-05-30T19:59:43.347179Z"
    }
   },
   "outputs": [
    {
     "name": "stdout",
     "output_type": "stream",
     "text": [
      "Removed 505 rows.\n"
     ]
    }
   ],
   "source": [
    "n_before = len(df)\n",
    "\n",
    "# Dropping Rows with Missing City Information\n",
    "df = df.dropna(subset=['city'])\n",
    "\n",
    "# Filling Missing Category Values\n",
    "df['category'] = df['category'].fillna('unknown')\n",
    "\n",
    "# Imputing Missing Prices Using City–Category Median\n",
    "price_median = (\n",
    "    df.groupby(['city','category'])['price']\n",
    "      .median()\n",
    "      .rename('city_cat_median')\n",
    ")\n",
    "\n",
    "df = df.join(price_median, on=['city','category'])\n",
    "df['price'] = df['price'].fillna(df['city_cat_median'])\n",
    "df = df.drop(columns='city_cat_median')\n",
    "\n",
    "n_after = len(df)\n",
    "print(f\"Removed {n_before - n_after} rows.\")"
   ]
  },
  {
   "cell_type": "markdown",
   "id": "85edd1ad-2b7d-434e-9176-35c32aa5d974",
   "metadata": {},
   "source": [
    "<p style='background-color: #253d7a; margin-top:20px; padding:5px 15px; font-weight: 500; color: white;'>Prices Veryfication</p>"
   ]
  },
  {
   "cell_type": "code",
   "execution_count": 40,
   "id": "4f1fefa2-aa14-4b19-87bd-2c207185797d",
   "metadata": {
    "ExecuteTime": {
     "end_time": "2025-05-30T19:59:43.372997Z",
     "start_time": "2025-05-30T19:59:43.370427Z"
    }
   },
   "outputs": [
    {
     "name": "stdout",
     "output_type": "stream",
     "text": [
      "Min price: 0.22\n",
      "Max price: 166423.95\n"
     ]
    }
   ],
   "source": [
    "print(\"Min price:\", df['price'].min())\n",
    "print(\"Max price:\", df['price'].max())"
   ]
  },
  {
   "cell_type": "code",
   "execution_count": 41,
   "id": "70f4f747-3bb3-4fd8-8a03-ebba946c3b92",
   "metadata": {
    "ExecuteTime": {
     "end_time": "2025-05-30T19:59:43.404657Z",
     "start_time": "2025-05-30T19:59:43.395250Z"
    }
   },
   "outputs": [
    {
     "data": {
      "text/html": [
       "<div>\n",
       "<style scoped>\n",
       "    .dataframe tbody tr th:only-of-type {\n",
       "        vertical-align: middle;\n",
       "    }\n",
       "\n",
       "    .dataframe tbody tr th {\n",
       "        vertical-align: top;\n",
       "    }\n",
       "\n",
       "    .dataframe thead th {\n",
       "        text-align: right;\n",
       "    }\n",
       "</style>\n",
       "<table border=\"1\" class=\"dataframe\">\n",
       "  <thead>\n",
       "    <tr style=\"text-align: right;\">\n",
       "      <th></th>\n",
       "      <th>city</th>\n",
       "      <th>category</th>\n",
       "      <th>created_at</th>\n",
       "      <th>price</th>\n",
       "      <th>total_size</th>\n",
       "      <th>furnished</th>\n",
       "      <th>registration_possible</th>\n",
       "      <th>washing_machine</th>\n",
       "      <th>tv</th>\n",
       "      <th>balcony</th>\n",
       "      <th>garden</th>\n",
       "      <th>terrace</th>\n",
       "    </tr>\n",
       "  </thead>\n",
       "  <tbody>\n",
       "    <tr>\n",
       "      <th>3049</th>\n",
       "      <td>Barlad</td>\n",
       "      <td>Private Room</td>\n",
       "      <td>2016-04-03 11:04:25</td>\n",
       "      <td>166423.95</td>\n",
       "      <td>6</td>\n",
       "      <td>False</td>\n",
       "      <td>&lt;NA&gt;</td>\n",
       "      <td>False</td>\n",
       "      <td>True</td>\n",
       "      <td>&lt;NA&gt;</td>\n",
       "      <td>&lt;NA&gt;</td>\n",
       "      <td>&lt;NA&gt;</td>\n",
       "    </tr>\n",
       "    <tr>\n",
       "      <th>4413</th>\n",
       "      <td>Afumati</td>\n",
       "      <td>Studio</td>\n",
       "      <td>2015-04-08 22:57:49</td>\n",
       "      <td>166423.95</td>\n",
       "      <td>&lt;NA&gt;</td>\n",
       "      <td>&lt;NA&gt;</td>\n",
       "      <td>True</td>\n",
       "      <td>True</td>\n",
       "      <td>True</td>\n",
       "      <td>&lt;NA&gt;</td>\n",
       "      <td>yes</td>\n",
       "      <td>yes</td>\n",
       "    </tr>\n",
       "    <tr>\n",
       "      <th>2335</th>\n",
       "      <td>Lupeni</td>\n",
       "      <td>Shared Room</td>\n",
       "      <td>2013-11-01 09:39:40</td>\n",
       "      <td>49603.18</td>\n",
       "      <td>104</td>\n",
       "      <td>True</td>\n",
       "      <td>&lt;NA&gt;</td>\n",
       "      <td>True</td>\n",
       "      <td>&lt;NA&gt;</td>\n",
       "      <td>&lt;NA&gt;</td>\n",
       "      <td>yes</td>\n",
       "      <td>&lt;NA&gt;</td>\n",
       "    </tr>\n",
       "    <tr>\n",
       "      <th>7161</th>\n",
       "      <td>Rosiori de Vede</td>\n",
       "      <td>Apartment</td>\n",
       "      <td>2017-08-30 02:10:42</td>\n",
       "      <td>49150.66</td>\n",
       "      <td>&lt;NA&gt;</td>\n",
       "      <td>True</td>\n",
       "      <td>&lt;NA&gt;</td>\n",
       "      <td>False</td>\n",
       "      <td>False</td>\n",
       "      <td>&lt;NA&gt;</td>\n",
       "      <td>yes</td>\n",
       "      <td>&lt;NA&gt;</td>\n",
       "    </tr>\n",
       "    <tr>\n",
       "      <th>940</th>\n",
       "      <td>Calafat</td>\n",
       "      <td>Studio</td>\n",
       "      <td>2016-07-18 01:44:07</td>\n",
       "      <td>48990.32</td>\n",
       "      <td>82</td>\n",
       "      <td>False</td>\n",
       "      <td>&lt;NA&gt;</td>\n",
       "      <td>True</td>\n",
       "      <td>True</td>\n",
       "      <td>no</td>\n",
       "      <td>&lt;NA&gt;</td>\n",
       "      <td>&lt;NA&gt;</td>\n",
       "    </tr>\n",
       "    <tr>\n",
       "      <th>...</th>\n",
       "      <td>...</td>\n",
       "      <td>...</td>\n",
       "      <td>...</td>\n",
       "      <td>...</td>\n",
       "      <td>...</td>\n",
       "      <td>...</td>\n",
       "      <td>...</td>\n",
       "      <td>...</td>\n",
       "      <td>...</td>\n",
       "      <td>...</td>\n",
       "      <td>...</td>\n",
       "      <td>...</td>\n",
       "    </tr>\n",
       "    <tr>\n",
       "      <th>9618</th>\n",
       "      <td>Medgidia</td>\n",
       "      <td>Apartment</td>\n",
       "      <td>2016-12-07 07:37:00</td>\n",
       "      <td>10787.32</td>\n",
       "      <td>83</td>\n",
       "      <td>&lt;NA&gt;</td>\n",
       "      <td>False</td>\n",
       "      <td>False</td>\n",
       "      <td>True</td>\n",
       "      <td>&lt;NA&gt;</td>\n",
       "      <td>&lt;NA&gt;</td>\n",
       "      <td>&lt;NA&gt;</td>\n",
       "    </tr>\n",
       "    <tr>\n",
       "      <th>1601</th>\n",
       "      <td>Oradea</td>\n",
       "      <td>Shared Room</td>\n",
       "      <td>2015-09-26 23:31:45</td>\n",
       "      <td>10153.50</td>\n",
       "      <td>96</td>\n",
       "      <td>True</td>\n",
       "      <td>True</td>\n",
       "      <td>True</td>\n",
       "      <td>&lt;NA&gt;</td>\n",
       "      <td>&lt;NA&gt;</td>\n",
       "      <td>no</td>\n",
       "      <td>yes</td>\n",
       "    </tr>\n",
       "    <tr>\n",
       "      <th>3030</th>\n",
       "      <td>Rasnov</td>\n",
       "      <td>Private Room</td>\n",
       "      <td>2015-11-10 04:07:21</td>\n",
       "      <td>10153.50</td>\n",
       "      <td>78</td>\n",
       "      <td>&lt;NA&gt;</td>\n",
       "      <td>&lt;NA&gt;</td>\n",
       "      <td>&lt;NA&gt;</td>\n",
       "      <td>False</td>\n",
       "      <td>&lt;NA&gt;</td>\n",
       "      <td>yes</td>\n",
       "      <td>no</td>\n",
       "    </tr>\n",
       "    <tr>\n",
       "      <th>7049</th>\n",
       "      <td>Strehaia</td>\n",
       "      <td>Apartment</td>\n",
       "      <td>2015-07-29 00:35:06</td>\n",
       "      <td>10153.50</td>\n",
       "      <td>215</td>\n",
       "      <td>&lt;NA&gt;</td>\n",
       "      <td>&lt;NA&gt;</td>\n",
       "      <td>&lt;NA&gt;</td>\n",
       "      <td>False</td>\n",
       "      <td>no</td>\n",
       "      <td>no</td>\n",
       "      <td>yes</td>\n",
       "    </tr>\n",
       "    <tr>\n",
       "      <th>3338</th>\n",
       "      <td>Mogosoaia</td>\n",
       "      <td>Studio</td>\n",
       "      <td>2014-09-17 06:12:15</td>\n",
       "      <td>10100.97</td>\n",
       "      <td>&lt;NA&gt;</td>\n",
       "      <td>&lt;NA&gt;</td>\n",
       "      <td>&lt;NA&gt;</td>\n",
       "      <td>False</td>\n",
       "      <td>&lt;NA&gt;</td>\n",
       "      <td>&lt;NA&gt;</td>\n",
       "      <td>yes</td>\n",
       "      <td>&lt;NA&gt;</td>\n",
       "    </tr>\n",
       "  </tbody>\n",
       "</table>\n",
       "<p>183 rows × 12 columns</p>\n",
       "</div>"
      ],
      "text/plain": [
       "                 city      category          created_at      price  \\\n",
       "3049           Barlad  Private Room 2016-04-03 11:04:25  166423.95   \n",
       "4413          Afumati        Studio 2015-04-08 22:57:49  166423.95   \n",
       "2335           Lupeni   Shared Room 2013-11-01 09:39:40   49603.18   \n",
       "7161  Rosiori de Vede     Apartment 2017-08-30 02:10:42   49150.66   \n",
       "940           Calafat        Studio 2016-07-18 01:44:07   48990.32   \n",
       "...               ...           ...                 ...        ...   \n",
       "9618         Medgidia     Apartment 2016-12-07 07:37:00   10787.32   \n",
       "1601           Oradea   Shared Room 2015-09-26 23:31:45   10153.50   \n",
       "3030           Rasnov  Private Room 2015-11-10 04:07:21   10153.50   \n",
       "7049         Strehaia     Apartment 2015-07-29 00:35:06   10153.50   \n",
       "3338        Mogosoaia        Studio 2014-09-17 06:12:15   10100.97   \n",
       "\n",
       "      total_size  furnished  registration_possible  washing_machine     tv  \\\n",
       "3049           6      False                   <NA>            False   True   \n",
       "4413        <NA>       <NA>                   True             True   True   \n",
       "2335         104       True                   <NA>             True   <NA>   \n",
       "7161        <NA>       True                   <NA>            False  False   \n",
       "940           82      False                   <NA>             True   True   \n",
       "...          ...        ...                    ...              ...    ...   \n",
       "9618          83       <NA>                  False            False   True   \n",
       "1601          96       True                   True             True   <NA>   \n",
       "3030          78       <NA>                   <NA>             <NA>  False   \n",
       "7049         215       <NA>                   <NA>             <NA>  False   \n",
       "3338        <NA>       <NA>                   <NA>            False   <NA>   \n",
       "\n",
       "     balcony garden terrace  \n",
       "3049    <NA>   <NA>    <NA>  \n",
       "4413    <NA>    yes     yes  \n",
       "2335    <NA>    yes    <NA>  \n",
       "7161    <NA>    yes    <NA>  \n",
       "940       no   <NA>    <NA>  \n",
       "...      ...    ...     ...  \n",
       "9618    <NA>   <NA>    <NA>  \n",
       "1601    <NA>     no     yes  \n",
       "3030    <NA>    yes      no  \n",
       "7049      no     no     yes  \n",
       "3338    <NA>    yes    <NA>  \n",
       "\n",
       "[183 rows x 12 columns]"
      ]
     },
     "execution_count": 41,
     "metadata": {},
     "output_type": "execute_result"
    }
   ],
   "source": [
    "# Higher than €10000\n",
    "\n",
    "df[df['price'] > 10000].sort_values(by='price', ascending=False)"
   ]
  },
  {
   "cell_type": "code",
   "execution_count": 42,
   "id": "dc011b2a-f429-4d9b-a0ce-2df6c061e513",
   "metadata": {
    "ExecuteTime": {
     "end_time": "2025-05-30T19:59:43.493239Z",
     "start_time": "2025-05-30T19:59:43.486322Z"
    }
   },
   "outputs": [
    {
     "data": {
      "text/html": [
       "<div>\n",
       "<style scoped>\n",
       "    .dataframe tbody tr th:only-of-type {\n",
       "        vertical-align: middle;\n",
       "    }\n",
       "\n",
       "    .dataframe tbody tr th {\n",
       "        vertical-align: top;\n",
       "    }\n",
       "\n",
       "    .dataframe thead th {\n",
       "        text-align: right;\n",
       "    }\n",
       "</style>\n",
       "<table border=\"1\" class=\"dataframe\">\n",
       "  <thead>\n",
       "    <tr style=\"text-align: right;\">\n",
       "      <th></th>\n",
       "      <th>city</th>\n",
       "      <th>category</th>\n",
       "      <th>created_at</th>\n",
       "      <th>price</th>\n",
       "      <th>total_size</th>\n",
       "      <th>furnished</th>\n",
       "      <th>registration_possible</th>\n",
       "      <th>washing_machine</th>\n",
       "      <th>tv</th>\n",
       "      <th>balcony</th>\n",
       "      <th>garden</th>\n",
       "      <th>terrace</th>\n",
       "    </tr>\n",
       "  </thead>\n",
       "  <tbody>\n",
       "    <tr>\n",
       "      <th>4708</th>\n",
       "      <td>Boldesti-Scaeni</td>\n",
       "      <td>Apartment</td>\n",
       "      <td>2013-05-08 03:48:43</td>\n",
       "      <td>79.69</td>\n",
       "      <td>&lt;NA&gt;</td>\n",
       "      <td>True</td>\n",
       "      <td>&lt;NA&gt;</td>\n",
       "      <td>False</td>\n",
       "      <td>True</td>\n",
       "      <td>&lt;NA&gt;</td>\n",
       "      <td>no</td>\n",
       "      <td>no</td>\n",
       "    </tr>\n",
       "    <tr>\n",
       "      <th>9520</th>\n",
       "      <td>Sovata</td>\n",
       "      <td>Apartment</td>\n",
       "      <td>2014-10-03 00:04:47</td>\n",
       "      <td>79.69</td>\n",
       "      <td>&lt;NA&gt;</td>\n",
       "      <td>False</td>\n",
       "      <td>False</td>\n",
       "      <td>False</td>\n",
       "      <td>False</td>\n",
       "      <td>&lt;NA&gt;</td>\n",
       "      <td>yes</td>\n",
       "      <td>&lt;NA&gt;</td>\n",
       "    </tr>\n",
       "    <tr>\n",
       "      <th>2303</th>\n",
       "      <td>Dabuleni</td>\n",
       "      <td>Shared Room</td>\n",
       "      <td>2015-11-08 02:27:49</td>\n",
       "      <td>79.38</td>\n",
       "      <td>103</td>\n",
       "      <td>False</td>\n",
       "      <td>False</td>\n",
       "      <td>False</td>\n",
       "      <td>True</td>\n",
       "      <td>&lt;NA&gt;</td>\n",
       "      <td>no</td>\n",
       "      <td>&lt;NA&gt;</td>\n",
       "    </tr>\n",
       "    <tr>\n",
       "      <th>7133</th>\n",
       "      <td>Rosiori de Vede</td>\n",
       "      <td>Shared Room</td>\n",
       "      <td>2017-07-17 16:02:50</td>\n",
       "      <td>79.38</td>\n",
       "      <td>&lt;NA&gt;</td>\n",
       "      <td>&lt;NA&gt;</td>\n",
       "      <td>&lt;NA&gt;</td>\n",
       "      <td>True</td>\n",
       "      <td>&lt;NA&gt;</td>\n",
       "      <td>&lt;NA&gt;</td>\n",
       "      <td>no</td>\n",
       "      <td>&lt;NA&gt;</td>\n",
       "    </tr>\n",
       "    <tr>\n",
       "      <th>3289</th>\n",
       "      <td>Medgidia</td>\n",
       "      <td>Studio</td>\n",
       "      <td>2015-04-06 08:11:51</td>\n",
       "      <td>79.38</td>\n",
       "      <td>72</td>\n",
       "      <td>&lt;NA&gt;</td>\n",
       "      <td>True</td>\n",
       "      <td>True</td>\n",
       "      <td>True</td>\n",
       "      <td>&lt;NA&gt;</td>\n",
       "      <td>no</td>\n",
       "      <td>&lt;NA&gt;</td>\n",
       "    </tr>\n",
       "    <tr>\n",
       "      <th>...</th>\n",
       "      <td>...</td>\n",
       "      <td>...</td>\n",
       "      <td>...</td>\n",
       "      <td>...</td>\n",
       "      <td>...</td>\n",
       "      <td>...</td>\n",
       "      <td>...</td>\n",
       "      <td>...</td>\n",
       "      <td>...</td>\n",
       "      <td>...</td>\n",
       "      <td>...</td>\n",
       "      <td>...</td>\n",
       "    </tr>\n",
       "    <tr>\n",
       "      <th>7694</th>\n",
       "      <td>Harlau</td>\n",
       "      <td>unknown</td>\n",
       "      <td>2015-08-07 21:25:37</td>\n",
       "      <td>2.32</td>\n",
       "      <td>&lt;NA&gt;</td>\n",
       "      <td>&lt;NA&gt;</td>\n",
       "      <td>True</td>\n",
       "      <td>True</td>\n",
       "      <td>False</td>\n",
       "      <td>&lt;NA&gt;</td>\n",
       "      <td>no</td>\n",
       "      <td>&lt;NA&gt;</td>\n",
       "    </tr>\n",
       "    <tr>\n",
       "      <th>4083</th>\n",
       "      <td>Rasnov</td>\n",
       "      <td>Studio</td>\n",
       "      <td>2016-10-31 00:27:55</td>\n",
       "      <td>2.30</td>\n",
       "      <td>83</td>\n",
       "      <td>True</td>\n",
       "      <td>&lt;NA&gt;</td>\n",
       "      <td>&lt;NA&gt;</td>\n",
       "      <td>True</td>\n",
       "      <td>&lt;NA&gt;</td>\n",
       "      <td>&lt;NA&gt;</td>\n",
       "      <td>yes</td>\n",
       "    </tr>\n",
       "    <tr>\n",
       "      <th>148</th>\n",
       "      <td>Afumati</td>\n",
       "      <td>Studio</td>\n",
       "      <td>2017-12-11 19:50:29</td>\n",
       "      <td>0.49</td>\n",
       "      <td>60</td>\n",
       "      <td>True</td>\n",
       "      <td>&lt;NA&gt;</td>\n",
       "      <td>&lt;NA&gt;</td>\n",
       "      <td>True</td>\n",
       "      <td>yes</td>\n",
       "      <td>yes</td>\n",
       "      <td>&lt;NA&gt;</td>\n",
       "    </tr>\n",
       "    <tr>\n",
       "      <th>9030</th>\n",
       "      <td>Titu</td>\n",
       "      <td>Apartment</td>\n",
       "      <td>2013-07-04 07:11:34</td>\n",
       "      <td>0.22</td>\n",
       "      <td>687</td>\n",
       "      <td>&lt;NA&gt;</td>\n",
       "      <td>False</td>\n",
       "      <td>False</td>\n",
       "      <td>False</td>\n",
       "      <td>yes</td>\n",
       "      <td>&lt;NA&gt;</td>\n",
       "      <td>&lt;NA&gt;</td>\n",
       "    </tr>\n",
       "    <tr>\n",
       "      <th>9302</th>\n",
       "      <td>Dabuleni</td>\n",
       "      <td>Shared Room</td>\n",
       "      <td>2014-03-31 07:39:25</td>\n",
       "      <td>0.22</td>\n",
       "      <td>79</td>\n",
       "      <td>&lt;NA&gt;</td>\n",
       "      <td>&lt;NA&gt;</td>\n",
       "      <td>False</td>\n",
       "      <td>&lt;NA&gt;</td>\n",
       "      <td>no</td>\n",
       "      <td>no</td>\n",
       "      <td>&lt;NA&gt;</td>\n",
       "    </tr>\n",
       "  </tbody>\n",
       "</table>\n",
       "<p>270 rows × 12 columns</p>\n",
       "</div>"
      ],
      "text/plain": [
       "                 city     category          created_at  price  total_size  \\\n",
       "4708  Boldesti-Scaeni    Apartment 2013-05-08 03:48:43  79.69        <NA>   \n",
       "9520           Sovata    Apartment 2014-10-03 00:04:47  79.69        <NA>   \n",
       "2303         Dabuleni  Shared Room 2015-11-08 02:27:49  79.38         103   \n",
       "7133  Rosiori de Vede  Shared Room 2017-07-17 16:02:50  79.38        <NA>   \n",
       "3289         Medgidia       Studio 2015-04-06 08:11:51  79.38          72   \n",
       "...               ...          ...                 ...    ...         ...   \n",
       "7694           Harlau      unknown 2015-08-07 21:25:37   2.32        <NA>   \n",
       "4083           Rasnov       Studio 2016-10-31 00:27:55   2.30          83   \n",
       "148           Afumati       Studio 2017-12-11 19:50:29   0.49          60   \n",
       "9030             Titu    Apartment 2013-07-04 07:11:34   0.22         687   \n",
       "9302         Dabuleni  Shared Room 2014-03-31 07:39:25   0.22          79   \n",
       "\n",
       "      furnished  registration_possible  washing_machine     tv balcony garden  \\\n",
       "4708       True                   <NA>            False   True    <NA>     no   \n",
       "9520      False                  False            False  False    <NA>    yes   \n",
       "2303      False                  False            False   True    <NA>     no   \n",
       "7133       <NA>                   <NA>             True   <NA>    <NA>     no   \n",
       "3289       <NA>                   True             True   True    <NA>     no   \n",
       "...         ...                    ...              ...    ...     ...    ...   \n",
       "7694       <NA>                   True             True  False    <NA>     no   \n",
       "4083       True                   <NA>             <NA>   True    <NA>   <NA>   \n",
       "148        True                   <NA>             <NA>   True     yes    yes   \n",
       "9030       <NA>                  False            False  False     yes   <NA>   \n",
       "9302       <NA>                   <NA>            False   <NA>      no     no   \n",
       "\n",
       "     terrace  \n",
       "4708      no  \n",
       "9520    <NA>  \n",
       "2303    <NA>  \n",
       "7133    <NA>  \n",
       "3289    <NA>  \n",
       "...      ...  \n",
       "7694    <NA>  \n",
       "4083     yes  \n",
       "148     <NA>  \n",
       "9030    <NA>  \n",
       "9302    <NA>  \n",
       "\n",
       "[270 rows x 12 columns]"
      ]
     },
     "execution_count": 42,
     "metadata": {},
     "output_type": "execute_result"
    }
   ],
   "source": [
    "# Lower than €50\n",
    "\n",
    "df[df['price'] < 80].sort_values(by='price', ascending=False)"
   ]
  },
  {
   "cell_type": "code",
   "execution_count": 43,
   "id": "14732ad7-737f-4c31-959c-ac2d2fbc33b7",
   "metadata": {
    "ExecuteTime": {
     "end_time": "2025-05-30T19:59:43.566463Z",
     "start_time": "2025-05-30T19:59:43.560696Z"
    }
   },
   "outputs": [],
   "source": [
    "# Dropping Rows with Unrealistic Prices\n",
    "\n",
    "df = df.drop(df[df['price'] > 12000].index)\n",
    "df = df.drop(df[df['price'] < 100].index)"
   ]
  },
  {
   "cell_type": "markdown",
   "id": "7d54a6fd-d9e7-4772-9eeb-71bec39381f3",
   "metadata": {},
   "source": [
    "<p style='background-color: #253d7a; margin-top:20px; padding:5px 15px; font-weight: 500; color: white;'>Imputing Data to Handle Inconsistencies in 'Category'</p>"
   ]
  },
  {
   "cell_type": "code",
   "execution_count": 44,
   "id": "6efc11e1-7fce-4587-9837-1c0e0693dac3",
   "metadata": {
    "ExecuteTime": {
     "end_time": "2025-05-30T19:59:43.641167Z",
     "start_time": "2025-05-30T19:59:43.636732Z"
    }
   },
   "outputs": [],
   "source": [
    "# Gathering Values for Pre-Comparison\n",
    "\n",
    "vc1 = df['category'].value_counts()\n",
    "p1 = df.groupby('category')['price'].median()\n",
    "s1 = df.groupby('category')['total_size'].median()"
   ]
  },
  {
   "cell_type": "markdown",
   "id": "651be718-b42d-4669-a6c3-5e9324ac64a5",
   "metadata": {},
   "source": [
    "Since the price field is the most complete and reliable variable in the dataset, it is used to define threshold ranges that enable more accurate assignment of the category values."
   ]
  },
  {
   "cell_type": "code",
   "execution_count": 45,
   "id": "306ad135-a07a-4628-97ba-3d1ff17fe514",
   "metadata": {
    "ExecuteTime": {
     "end_time": "2025-05-30T19:59:43.666342Z",
     "start_time": "2025-05-30T19:59:43.663471Z"
    }
   },
   "outputs": [],
   "source": [
    "def price_to_category(price):\n",
    "    if price > 1000:\n",
    "        return 'Luxury Apartment' # INTRODUCING NEW CATEGORY!\n",
    "    if price > 500:\n",
    "        return 'Apartment'\n",
    "    if price > 400:\n",
    "        return 'Studio'\n",
    "    if price > 300:\n",
    "        return 'Private Room'\n",
    "    if price >= 200:\n",
    "        return 'Shared Room'\n",
    "    return 'Other'\n",
    "    \n",
    "df['category'] = df['price'].apply(price_to_category)"
   ]
  },
  {
   "cell_type": "code",
   "execution_count": 46,
   "id": "462ff573-60a2-4a95-8ca2-f22798134303",
   "metadata": {
    "ExecuteTime": {
     "end_time": "2025-05-30T19:59:43.685028Z",
     "start_time": "2025-05-30T19:59:43.681273Z"
    }
   },
   "outputs": [],
   "source": [
    "# Capturing Values for After-Comparison\n",
    "\n",
    "vc2 = df['category'].value_counts()\n",
    "p2 = df.groupby('category')['price'].median()\n",
    "s2 = df.groupby('category')['total_size'].median()"
   ]
  },
  {
   "cell_type": "code",
   "execution_count": 47,
   "id": "e73a869a-1951-4d58-87c5-85b6a99e1bd2",
   "metadata": {
    "ExecuteTime": {
     "end_time": "2025-05-30T19:59:43.701574Z",
     "start_time": "2025-05-30T19:59:43.697545Z"
    }
   },
   "outputs": [
    {
     "data": {
      "text/html": [
       "<div>\n",
       "<style scoped>\n",
       "    .dataframe tbody tr th:only-of-type {\n",
       "        vertical-align: middle;\n",
       "    }\n",
       "\n",
       "    .dataframe tbody tr th {\n",
       "        vertical-align: top;\n",
       "    }\n",
       "\n",
       "    .dataframe thead th {\n",
       "        text-align: right;\n",
       "    }\n",
       "</style>\n",
       "<table border=\"1\" class=\"dataframe\">\n",
       "  <thead>\n",
       "    <tr style=\"text-align: right;\">\n",
       "      <th></th>\n",
       "      <th>count</th>\n",
       "      <th>count</th>\n",
       "    </tr>\n",
       "    <tr>\n",
       "      <th>category</th>\n",
       "      <th></th>\n",
       "      <th></th>\n",
       "    </tr>\n",
       "  </thead>\n",
       "  <tbody>\n",
       "    <tr>\n",
       "      <th>Private Room</th>\n",
       "      <td>2211</td>\n",
       "      <td>702.0</td>\n",
       "    </tr>\n",
       "    <tr>\n",
       "      <th>Studio</th>\n",
       "      <td>2165</td>\n",
       "      <td>637.0</td>\n",
       "    </tr>\n",
       "    <tr>\n",
       "      <th>Apartment</th>\n",
       "      <td>2164</td>\n",
       "      <td>3055.0</td>\n",
       "    </tr>\n",
       "    <tr>\n",
       "      <th>Shared Room</th>\n",
       "      <td>2025</td>\n",
       "      <td>673.0</td>\n",
       "    </tr>\n",
       "    <tr>\n",
       "      <th>unknown</th>\n",
       "      <td>443</td>\n",
       "      <td>NaN</td>\n",
       "    </tr>\n",
       "    <tr>\n",
       "      <th>Luxury Apartment</th>\n",
       "      <td>&lt;NA&gt;</td>\n",
       "      <td>3150.0</td>\n",
       "    </tr>\n",
       "    <tr>\n",
       "      <th>Other</th>\n",
       "      <td>&lt;NA&gt;</td>\n",
       "      <td>791.0</td>\n",
       "    </tr>\n",
       "  </tbody>\n",
       "</table>\n",
       "</div>"
      ],
      "text/plain": [
       "                  count   count\n",
       "category                       \n",
       "Private Room       2211   702.0\n",
       "Studio             2165   637.0\n",
       "Apartment          2164  3055.0\n",
       "Shared Room        2025   673.0\n",
       "unknown             443     NaN\n",
       "Luxury Apartment   <NA>  3150.0\n",
       "Other              <NA>   791.0"
      ]
     },
     "execution_count": 47,
     "metadata": {},
     "output_type": "execute_result"
    }
   ],
   "source": [
    "# Comparing Value Counts Before and After Imputation\n",
    "\n",
    "pd.concat([vc1, vc2], axis=1)"
   ]
  },
  {
   "cell_type": "code",
   "execution_count": 48,
   "id": "51c48983-ebcf-4ed7-a05b-f66836796428",
   "metadata": {
    "ExecuteTime": {
     "end_time": "2025-05-30T19:59:43.738404Z",
     "start_time": "2025-05-30T19:59:43.734466Z"
    }
   },
   "outputs": [
    {
     "data": {
      "text/html": [
       "<div>\n",
       "<style scoped>\n",
       "    .dataframe tbody tr th:only-of-type {\n",
       "        vertical-align: middle;\n",
       "    }\n",
       "\n",
       "    .dataframe tbody tr th {\n",
       "        vertical-align: top;\n",
       "    }\n",
       "\n",
       "    .dataframe thead th {\n",
       "        text-align: right;\n",
       "    }\n",
       "</style>\n",
       "<table border=\"1\" class=\"dataframe\">\n",
       "  <thead>\n",
       "    <tr style=\"text-align: right;\">\n",
       "      <th></th>\n",
       "      <th>price</th>\n",
       "      <th>price</th>\n",
       "    </tr>\n",
       "    <tr>\n",
       "      <th>category</th>\n",
       "      <th></th>\n",
       "      <th></th>\n",
       "    </tr>\n",
       "  </thead>\n",
       "  <tbody>\n",
       "    <tr>\n",
       "      <th>Apartment</th>\n",
       "      <td>790.275</td>\n",
       "      <td>751.690</td>\n",
       "    </tr>\n",
       "    <tr>\n",
       "      <th>Private Room</th>\n",
       "      <td>775.210</td>\n",
       "      <td>345.050</td>\n",
       "    </tr>\n",
       "    <tr>\n",
       "      <th>Shared Room</th>\n",
       "      <td>792.810</td>\n",
       "      <td>248.940</td>\n",
       "    </tr>\n",
       "    <tr>\n",
       "      <th>Studio</th>\n",
       "      <td>765.410</td>\n",
       "      <td>452.360</td>\n",
       "    </tr>\n",
       "    <tr>\n",
       "      <th>unknown</th>\n",
       "      <td>711.520</td>\n",
       "      <td>NaN</td>\n",
       "    </tr>\n",
       "    <tr>\n",
       "      <th>Luxury Apartment</th>\n",
       "      <td>NaN</td>\n",
       "      <td>3055.475</td>\n",
       "    </tr>\n",
       "    <tr>\n",
       "      <th>Other</th>\n",
       "      <td>NaN</td>\n",
       "      <td>149.200</td>\n",
       "    </tr>\n",
       "  </tbody>\n",
       "</table>\n",
       "</div>"
      ],
      "text/plain": [
       "                    price     price\n",
       "category                           \n",
       "Apartment         790.275   751.690\n",
       "Private Room      775.210   345.050\n",
       "Shared Room       792.810   248.940\n",
       "Studio            765.410   452.360\n",
       "unknown           711.520       NaN\n",
       "Luxury Apartment      NaN  3055.475\n",
       "Other                 NaN   149.200"
      ]
     },
     "execution_count": 48,
     "metadata": {},
     "output_type": "execute_result"
    }
   ],
   "source": [
    "# Comparing Median Price Before and After Imputation\n",
    "\n",
    "pd.concat([p1, p2], axis=1)"
   ]
  },
  {
   "cell_type": "code",
   "execution_count": 49,
   "id": "912477d0-81ca-4eba-894c-60bd2fadba78",
   "metadata": {
    "ExecuteTime": {
     "end_time": "2025-05-30T19:59:43.781062Z",
     "start_time": "2025-05-30T19:59:43.777644Z"
    }
   },
   "outputs": [
    {
     "data": {
      "text/html": [
       "<div>\n",
       "<style scoped>\n",
       "    .dataframe tbody tr th:only-of-type {\n",
       "        vertical-align: middle;\n",
       "    }\n",
       "\n",
       "    .dataframe tbody tr th {\n",
       "        vertical-align: top;\n",
       "    }\n",
       "\n",
       "    .dataframe thead th {\n",
       "        text-align: right;\n",
       "    }\n",
       "</style>\n",
       "<table border=\"1\" class=\"dataframe\">\n",
       "  <thead>\n",
       "    <tr style=\"text-align: right;\">\n",
       "      <th></th>\n",
       "      <th>total_size</th>\n",
       "      <th>total_size</th>\n",
       "    </tr>\n",
       "    <tr>\n",
       "      <th>category</th>\n",
       "      <th></th>\n",
       "      <th></th>\n",
       "    </tr>\n",
       "  </thead>\n",
       "  <tbody>\n",
       "    <tr>\n",
       "      <th>Apartment</th>\n",
       "      <td>94.0</td>\n",
       "      <td>94.0</td>\n",
       "    </tr>\n",
       "    <tr>\n",
       "      <th>Private Room</th>\n",
       "      <td>94.0</td>\n",
       "      <td>97.0</td>\n",
       "    </tr>\n",
       "    <tr>\n",
       "      <th>Shared Room</th>\n",
       "      <td>93.0</td>\n",
       "      <td>95.0</td>\n",
       "    </tr>\n",
       "    <tr>\n",
       "      <th>Studio</th>\n",
       "      <td>94.0</td>\n",
       "      <td>93.0</td>\n",
       "    </tr>\n",
       "    <tr>\n",
       "      <th>unknown</th>\n",
       "      <td>95.0</td>\n",
       "      <td>&lt;NA&gt;</td>\n",
       "    </tr>\n",
       "    <tr>\n",
       "      <th>Luxury Apartment</th>\n",
       "      <td>&lt;NA&gt;</td>\n",
       "      <td>93.0</td>\n",
       "    </tr>\n",
       "    <tr>\n",
       "      <th>Other</th>\n",
       "      <td>&lt;NA&gt;</td>\n",
       "      <td>94.0</td>\n",
       "    </tr>\n",
       "  </tbody>\n",
       "</table>\n",
       "</div>"
      ],
      "text/plain": [
       "                  total_size  total_size\n",
       "category                                \n",
       "Apartment               94.0        94.0\n",
       "Private Room            94.0        97.0\n",
       "Shared Room             93.0        95.0\n",
       "Studio                  94.0        93.0\n",
       "unknown                 95.0        <NA>\n",
       "Luxury Apartment        <NA>        93.0\n",
       "Other                   <NA>        94.0"
      ]
     },
     "execution_count": 49,
     "metadata": {},
     "output_type": "execute_result"
    }
   ],
   "source": [
    "# Comparing Median Total Size Before and After Imputation\n",
    "\n",
    "pd.concat([s1, s2], axis=1)"
   ]
  },
  {
   "cell_type": "markdown",
   "id": "e6b49e10-f118-4ca3-a929-abce799d8264",
   "metadata": {},
   "source": [
    "After correcting the category values based on price thresholds, new inconsistencies in room sizes became apparent. These issues will be addressed in the next step."
   ]
  },
  {
   "cell_type": "markdown",
   "id": "b89106f8-a74b-4ae6-802f-ebd36eba2c61",
   "metadata": {},
   "source": [
    "<p style='background-color: #253d7a; margin-top:20px; padding:5px 15px; font-weight: 500; color: white;'>Outlier Detection – Before</p>"
   ]
  },
  {
   "cell_type": "code",
   "execution_count": 50,
   "id": "adc959f0-1eb0-4f42-95c5-be13a16133d8",
   "metadata": {
    "ExecuteTime": {
     "end_time": "2025-05-30T19:59:43.994844Z",
     "start_time": "2025-05-30T19:59:43.839140Z"
    }
   },
   "outputs": [
    {
     "data": {
      "image/png": "[encoded data removed]",
      "text/plain": [
       "<Figure size 600x200 with 1 Axes>"
      ]
     },
     "metadata": {},
     "output_type": "display_data"
    },
    {
     "data": {
      "image/png": "[encoded data removed]",
      "text/plain": [
       "<Figure size 600x200 with 1 Axes>"
      ]
     },
     "metadata": {},
     "output_type": "display_data"
    },
    {
     "data": {
      "image/png": "[encoded data removed]",
      "text/plain": [
       "<Figure size 600x200 with 1 Axes>"
      ]
     },
     "metadata": {},
     "output_type": "display_data"
    },
    {
     "data": {
      "image/png": "[encoded data removed]",
      "text/plain": [
       "<Figure size 600x200 with 1 Axes>"
      ]
     },
     "metadata": {},
     "output_type": "display_data"
    },
    {
     "data": {
      "image/png": "[encoded data removed]",
      "text/plain": [
       "<Figure size 600x200 with 1 Axes>"
      ]
     },
     "metadata": {},
     "output_type": "display_data"
    },
    {
     "data": {
      "image/png": "[encoded data removed]",
      "text/plain": [
       "<Figure size 600x200 with 1 Axes>"
      ]
     },
     "metadata": {},
     "output_type": "display_data"
    }
   ],
   "source": [
    "for cat in df['category'].unique():\n",
    "    subset = df[df['category'] == cat]['total_size'].dropna()\n",
    "    \n",
    "    plt.figure(figsize=(6,2))\n",
    "    plt.boxplot(subset, vert=False)\n",
    "    plt.title(f\"Size Distribution: {cat}\")\n",
    "    plt.xlabel(\"Size (m²)\")\n",
    "    plt.tight_layout()\n",
    "    plt.show()"
   ]
  },
  {
   "cell_type": "markdown",
   "id": "8ada73be-6875-4e7b-8d4c-a2f694fde61b",
   "metadata": {},
   "source": [
    "Since the 'total_size' data is highly inconsistent, and the medians cannot be considered reliable indicators (e.g., the median size for a private room is 100 m²), a set of plausible value thresholds was introduced to guide the cleaning process."
   ]
  },
  {
   "cell_type": "code",
   "execution_count": 51,
   "id": "cc5d648b-94a0-40e3-af52-e542d181428c",
   "metadata": {
    "ExecuteTime": {
     "end_time": "2025-05-30T19:59:44.046417Z",
     "start_time": "2025-05-30T19:59:44.021370Z"
    }
   },
   "outputs": [
    {
     "name": "stdout",
     "output_type": "stream",
     "text": [
      "Flagging 1770 listings as too large for their category\n",
      "New medians after category‑based cap:\n",
      "category\n",
      "Apartment           85.0\n",
      "Luxury Apartment    85.0\n",
      "Other               94.0\n",
      "Private Room        18.5\n",
      "Shared Room          5.0\n",
      "Studio              30.0\n",
      "Name: total_size, dtype: Float64\n"
     ]
    },
    {
     "name": "stderr",
     "output_type": "stream",
     "text": [
      "/var/folders/vn/z9fp_k690lj6mlhd6mh2mfc40000gn/T/ipykernel_55401/3344241066.py:14: FutureWarning: Downcasting object dtype arrays on .fillna, .ffill, .bfill is deprecated and will change in a future version. Call result.infer_objects(copy=False) instead. To opt-in to the future behavior, set `pd.set_option('future.no_silent_downcasting', True)`\n",
      "  ).fillna(False)\n"
     ]
    }
   ],
   "source": [
    "# Defining Plausible Maximum Sizes (in m²)\n",
    "plausible_max = {\n",
    "    'Shared Room':      15,\n",
    "    'Private Room':     30,\n",
    "    'Studio':           50,\n",
    "    'Apartment':       200,\n",
    "    'Luxury Apartment':200,\n",
    "}\n",
    "\n",
    "# Building the Mask and Replacing <NA> with False\n",
    "mask = df.apply(\n",
    "    lambda row: row['total_size'] > plausible_max.get(row['category'], float('inf')),\n",
    "    axis=1\n",
    ").fillna(False)\n",
    "\n",
    "print(f\"Flagging {mask.sum()} listings as too large for their category\")\n",
    "\n",
    "# Clearing Out Invalid Size Values\n",
    "df.loc[mask, 'total_size'] = pd.NA\n",
    "\n",
    "# Recomputing Medians by Original Category\n",
    "print(\"New medians after category‑based cap:\")\n",
    "print(df.groupby('category')['total_size'].median())"
   ]
  },
  {
   "cell_type": "markdown",
   "id": "c2e62db5-06e5-45ad-bb5e-639a2ef41438",
   "metadata": {},
   "source": [
    "<p style='background-color: #253d7a; margin-top:20px; padding:5px 15px; font-weight: 500; color: white;'>Outlier Detection – After</p>"
   ]
  },
  {
   "cell_type": "code",
   "execution_count": 52,
   "id": "20de9991-30a4-491e-a89a-4db38d6dabed",
   "metadata": {
    "ExecuteTime": {
     "end_time": "2025-05-30T19:59:44.258355Z",
     "start_time": "2025-05-30T19:59:44.067962Z"
    }
   },
   "outputs": [
    {
     "data": {
      "image/png": "[encoded data removed]",
      "text/plain": [
       "<Figure size 600x200 with 1 Axes>"
      ]
     },
     "metadata": {},
     "output_type": "display_data"
    },
    {
     "data": {
      "image/png": "[encoded data removed]",
      "text/plain": [
       "<Figure size 600x200 with 1 Axes>"
      ]
     },
     "metadata": {},
     "output_type": "display_data"
    },
    {
     "data": {
      "image/png": "[encoded data removed]",
      "text/plain": [
       "<Figure size 600x200 with 1 Axes>"
      ]
     },
     "metadata": {},
     "output_type": "display_data"
    },
    {
     "data": {
      "image/png": "[encoded data removed]",
      "text/plain": [
       "<Figure size 600x200 with 1 Axes>"
      ]
     },
     "metadata": {},
     "output_type": "display_data"
    },
    {
     "data": {
      "image/png": "[encoded data removed]",
      "text/plain": [
       "<Figure size 600x200 with 1 Axes>"
      ]
     },
     "metadata": {},
     "output_type": "display_data"
    },
    {
     "data": {
      "image/png": "[encoded data removed]",
      "text/plain": [
       "<Figure size 600x200 with 1 Axes>"
      ]
     },
     "metadata": {},
     "output_type": "display_data"
    }
   ],
   "source": [
    "for cat in df['category'].unique():\n",
    "    subset = df[df['category'] == cat]['total_size'].dropna()\n",
    "    \n",
    "    plt.figure(figsize=(6,2))\n",
    "    plt.boxplot(subset, vert=False)\n",
    "    plt.title(f\"Size Distribution: {cat}\")\n",
    "    plt.xlabel(\"Size (m²)\")\n",
    "    plt.tight_layout()\n",
    "    plt.show()"
   ]
  },
  {
   "cell_type": "markdown",
   "id": "c7863895-4b04-4ef3-8fd9-4c8852ccdcf6",
   "metadata": {},
   "source": [
    "#### Conclusion\n",
    "Introducing plausible maximum values clearly helped standardize the dataset. While some outliers remain in the apartment and luxury apartment categories, their presence is expected given the natural variation in these types of listings."
   ]
  },
  {
   "cell_type": "markdown",
   "id": "dadffcc8-cc54-4ad2-84e3-0c1043b9f2d2",
   "metadata": {},
   "source": [
    "<p style='background-color: #253d7a; margin-top:20px; padding:5px 15px; font-weight: 500; color: white;'>Introducing New Column: Price per m²</p>"
   ]
  },
  {
   "cell_type": "code",
   "execution_count": 53,
   "id": "54c696e8-792b-4ee4-8a1f-15e94dc23c23",
   "metadata": {
    "ExecuteTime": {
     "end_time": "2025-05-30T19:59:44.277662Z",
     "start_time": "2025-05-30T19:59:44.275026Z"
    }
   },
   "outputs": [],
   "source": [
    "df['price_per_sqm'] = (df['price'] / df['total_size']).round(2)\n",
    "\n",
    "# Inserting It Next to the Price Column\n",
    "col = df.pop('price_per_sqm')\n",
    "df.insert(4, 'price_per_sqm', col)"
   ]
  },
  {
   "cell_type": "markdown",
   "id": "16ed7e77-22fa-4fc2-80e0-b79c5caa2cf9",
   "metadata": {},
   "source": [
    "<p style='background-color: #253d7a; margin-top:20px; padding:5px 15px; font-weight: 500; color: white;'>Final Review and Validation</p>"
   ]
  },
  {
   "cell_type": "code",
   "execution_count": 54,
   "id": "f9fe3410-4346-4562-a0a8-b4462947dcee",
   "metadata": {
    "ExecuteTime": {
     "end_time": "2025-05-30T19:59:44.298541Z",
     "start_time": "2025-05-30T19:59:44.294001Z"
    }
   },
   "outputs": [
    {
     "name": "stdout",
     "output_type": "stream",
     "text": [
      "<class 'pandas.core.frame.DataFrame'>\n",
      "Index: 9008 entries, 0 to 9999\n",
      "Data columns (total 13 columns):\n",
      " #   Column                 Non-Null Count  Dtype         \n",
      "---  ------                 --------------  -----         \n",
      " 0   city                   9008 non-null   string        \n",
      " 1   category               9008 non-null   object        \n",
      " 2   created_at             9008 non-null   datetime64[ns]\n",
      " 3   price                  9008 non-null   float64       \n",
      " 4   price_per_sqm          4214 non-null   Float64       \n",
      " 5   total_size             4214 non-null   Int64         \n",
      " 6   furnished              5738 non-null   boolean       \n",
      " 7   registration_possible  4818 non-null   boolean       \n",
      " 8   washing_machine        5720 non-null   boolean       \n",
      " 9   tv                     5720 non-null   boolean       \n",
      " 10  balcony                2463 non-null   string        \n",
      " 11  garden                 5715 non-null   string        \n",
      " 12  terrace                2412 non-null   string        \n",
      "dtypes: Float64(1), Int64(1), boolean(4), datetime64[ns](1), float64(1), object(1), string(4)\n",
      "memory usage: 791.7+ KB\n"
     ]
    }
   ],
   "source": [
    "df.info()"
   ]
  },
  {
   "cell_type": "code",
   "execution_count": 55,
   "id": "eefcc1f1-aae7-409c-943f-22018fb5ea08",
   "metadata": {
    "ExecuteTime": {
     "end_time": "2025-05-30T19:59:44.318305Z",
     "start_time": "2025-05-30T19:59:44.312538Z"
    }
   },
   "outputs": [
    {
     "data": {
      "text/html": [
       "<div>\n",
       "<style scoped>\n",
       "    .dataframe tbody tr th:only-of-type {\n",
       "        vertical-align: middle;\n",
       "    }\n",
       "\n",
       "    .dataframe tbody tr th {\n",
       "        vertical-align: top;\n",
       "    }\n",
       "\n",
       "    .dataframe thead th {\n",
       "        text-align: right;\n",
       "    }\n",
       "</style>\n",
       "<table border=\"1\" class=\"dataframe\">\n",
       "  <thead>\n",
       "    <tr style=\"text-align: right;\">\n",
       "      <th></th>\n",
       "      <th>city</th>\n",
       "      <th>category</th>\n",
       "      <th>created_at</th>\n",
       "      <th>price</th>\n",
       "      <th>price_per_sqm</th>\n",
       "      <th>total_size</th>\n",
       "      <th>furnished</th>\n",
       "      <th>registration_possible</th>\n",
       "      <th>washing_machine</th>\n",
       "      <th>tv</th>\n",
       "      <th>balcony</th>\n",
       "      <th>garden</th>\n",
       "      <th>terrace</th>\n",
       "    </tr>\n",
       "  </thead>\n",
       "  <tbody>\n",
       "    <tr>\n",
       "      <th>472</th>\n",
       "      <td>Rosiori de Vede</td>\n",
       "      <td>Luxury Apartment</td>\n",
       "      <td>2017-05-31 18:39:42</td>\n",
       "      <td>2503.98</td>\n",
       "      <td>20.87</td>\n",
       "      <td>120</td>\n",
       "      <td>False</td>\n",
       "      <td>True</td>\n",
       "      <td>True</td>\n",
       "      <td>False</td>\n",
       "      <td>&lt;NA&gt;</td>\n",
       "      <td>yes</td>\n",
       "      <td>&lt;NA&gt;</td>\n",
       "    </tr>\n",
       "    <tr>\n",
       "      <th>192</th>\n",
       "      <td>Rasnov</td>\n",
       "      <td>Private Room</td>\n",
       "      <td>2017-11-09 08:46:49</td>\n",
       "      <td>338.66</td>\n",
       "      <td>&lt;NA&gt;</td>\n",
       "      <td>&lt;NA&gt;</td>\n",
       "      <td>False</td>\n",
       "      <td>True</td>\n",
       "      <td>False</td>\n",
       "      <td>&lt;NA&gt;</td>\n",
       "      <td>yes</td>\n",
       "      <td>yes</td>\n",
       "      <td>&lt;NA&gt;</td>\n",
       "    </tr>\n",
       "    <tr>\n",
       "      <th>4281</th>\n",
       "      <td>Comanesti</td>\n",
       "      <td>Luxury Apartment</td>\n",
       "      <td>2013-01-21 13:09:02</td>\n",
       "      <td>3413.71</td>\n",
       "      <td>&lt;NA&gt;</td>\n",
       "      <td>&lt;NA&gt;</td>\n",
       "      <td>False</td>\n",
       "      <td>False</td>\n",
       "      <td>&lt;NA&gt;</td>\n",
       "      <td>True</td>\n",
       "      <td>&lt;NA&gt;</td>\n",
       "      <td>yes</td>\n",
       "      <td>yes</td>\n",
       "    </tr>\n",
       "    <tr>\n",
       "      <th>2422</th>\n",
       "      <td>Lupeni</td>\n",
       "      <td>Luxury Apartment</td>\n",
       "      <td>2013-10-24 06:34:58</td>\n",
       "      <td>2841.19</td>\n",
       "      <td>52.61</td>\n",
       "      <td>54</td>\n",
       "      <td>&lt;NA&gt;</td>\n",
       "      <td>&lt;NA&gt;</td>\n",
       "      <td>&lt;NA&gt;</td>\n",
       "      <td>True</td>\n",
       "      <td>no</td>\n",
       "      <td>yes</td>\n",
       "      <td>&lt;NA&gt;</td>\n",
       "    </tr>\n",
       "    <tr>\n",
       "      <th>1597</th>\n",
       "      <td>Afumati</td>\n",
       "      <td>Luxury Apartment</td>\n",
       "      <td>2014-11-07 00:26:11</td>\n",
       "      <td>7748.71</td>\n",
       "      <td>430.48</td>\n",
       "      <td>18</td>\n",
       "      <td>&lt;NA&gt;</td>\n",
       "      <td>True</td>\n",
       "      <td>True</td>\n",
       "      <td>&lt;NA&gt;</td>\n",
       "      <td>&lt;NA&gt;</td>\n",
       "      <td>&lt;NA&gt;</td>\n",
       "      <td>&lt;NA&gt;</td>\n",
       "    </tr>\n",
       "    <tr>\n",
       "      <th>8757</th>\n",
       "      <td>Calafat</td>\n",
       "      <td>Apartment</td>\n",
       "      <td>2015-06-20 17:48:44</td>\n",
       "      <td>806.89</td>\n",
       "      <td>&lt;NA&gt;</td>\n",
       "      <td>&lt;NA&gt;</td>\n",
       "      <td>&lt;NA&gt;</td>\n",
       "      <td>&lt;NA&gt;</td>\n",
       "      <td>False</td>\n",
       "      <td>True</td>\n",
       "      <td>&lt;NA&gt;</td>\n",
       "      <td>&lt;NA&gt;</td>\n",
       "      <td>&lt;NA&gt;</td>\n",
       "    </tr>\n",
       "    <tr>\n",
       "      <th>6267</th>\n",
       "      <td>Prejmer</td>\n",
       "      <td>Other</td>\n",
       "      <td>2016-11-13 23:43:54</td>\n",
       "      <td>157.57</td>\n",
       "      <td>78.78</td>\n",
       "      <td>2</td>\n",
       "      <td>False</td>\n",
       "      <td>False</td>\n",
       "      <td>True</td>\n",
       "      <td>True</td>\n",
       "      <td>&lt;NA&gt;</td>\n",
       "      <td>&lt;NA&gt;</td>\n",
       "      <td>&lt;NA&gt;</td>\n",
       "    </tr>\n",
       "    <tr>\n",
       "      <th>1044</th>\n",
       "      <td>Afumati</td>\n",
       "      <td>Luxury Apartment</td>\n",
       "      <td>2013-12-02 05:46:27</td>\n",
       "      <td>4559.41</td>\n",
       "      <td>45.59</td>\n",
       "      <td>100</td>\n",
       "      <td>&lt;NA&gt;</td>\n",
       "      <td>&lt;NA&gt;</td>\n",
       "      <td>False</td>\n",
       "      <td>&lt;NA&gt;</td>\n",
       "      <td>&lt;NA&gt;</td>\n",
       "      <td>yes</td>\n",
       "      <td>&lt;NA&gt;</td>\n",
       "    </tr>\n",
       "    <tr>\n",
       "      <th>5883</th>\n",
       "      <td>Dabuleni</td>\n",
       "      <td>Apartment</td>\n",
       "      <td>2015-05-02 22:36:23</td>\n",
       "      <td>722.69</td>\n",
       "      <td>5.47</td>\n",
       "      <td>132</td>\n",
       "      <td>False</td>\n",
       "      <td>False</td>\n",
       "      <td>&lt;NA&gt;</td>\n",
       "      <td>True</td>\n",
       "      <td>&lt;NA&gt;</td>\n",
       "      <td>&lt;NA&gt;</td>\n",
       "      <td>&lt;NA&gt;</td>\n",
       "    </tr>\n",
       "    <tr>\n",
       "      <th>4914</th>\n",
       "      <td>Modelu</td>\n",
       "      <td>Other</td>\n",
       "      <td>2015-11-08 02:27:49</td>\n",
       "      <td>158.14</td>\n",
       "      <td>0.78</td>\n",
       "      <td>202</td>\n",
       "      <td>True</td>\n",
       "      <td>True</td>\n",
       "      <td>False</td>\n",
       "      <td>&lt;NA&gt;</td>\n",
       "      <td>&lt;NA&gt;</td>\n",
       "      <td>no</td>\n",
       "      <td>yes</td>\n",
       "    </tr>\n",
       "  </tbody>\n",
       "</table>\n",
       "</div>"
      ],
      "text/plain": [
       "                 city          category          created_at    price  \\\n",
       "472   Rosiori de Vede  Luxury Apartment 2017-05-31 18:39:42  2503.98   \n",
       "192            Rasnov      Private Room 2017-11-09 08:46:49   338.66   \n",
       "4281        Comanesti  Luxury Apartment 2013-01-21 13:09:02  3413.71   \n",
       "2422           Lupeni  Luxury Apartment 2013-10-24 06:34:58  2841.19   \n",
       "1597          Afumati  Luxury Apartment 2014-11-07 00:26:11  7748.71   \n",
       "8757          Calafat         Apartment 2015-06-20 17:48:44   806.89   \n",
       "6267          Prejmer             Other 2016-11-13 23:43:54   157.57   \n",
       "1044          Afumati  Luxury Apartment 2013-12-02 05:46:27  4559.41   \n",
       "5883         Dabuleni         Apartment 2015-05-02 22:36:23   722.69   \n",
       "4914           Modelu             Other 2015-11-08 02:27:49   158.14   \n",
       "\n",
       "      price_per_sqm  total_size  furnished  registration_possible  \\\n",
       "472           20.87         120      False                   True   \n",
       "192            <NA>        <NA>      False                   True   \n",
       "4281           <NA>        <NA>      False                  False   \n",
       "2422          52.61          54       <NA>                   <NA>   \n",
       "1597         430.48          18       <NA>                   True   \n",
       "8757           <NA>        <NA>       <NA>                   <NA>   \n",
       "6267          78.78           2      False                  False   \n",
       "1044          45.59         100       <NA>                   <NA>   \n",
       "5883           5.47         132      False                  False   \n",
       "4914           0.78         202       True                   True   \n",
       "\n",
       "      washing_machine     tv balcony garden terrace  \n",
       "472              True  False    <NA>    yes    <NA>  \n",
       "192             False   <NA>     yes    yes    <NA>  \n",
       "4281             <NA>   True    <NA>    yes     yes  \n",
       "2422             <NA>   True      no    yes    <NA>  \n",
       "1597             True   <NA>    <NA>   <NA>    <NA>  \n",
       "8757            False   True    <NA>   <NA>    <NA>  \n",
       "6267             True   True    <NA>   <NA>    <NA>  \n",
       "1044            False   <NA>    <NA>    yes    <NA>  \n",
       "5883             <NA>   True    <NA>   <NA>    <NA>  \n",
       "4914            False   <NA>    <NA>     no     yes  "
      ]
     },
     "execution_count": 55,
     "metadata": {},
     "output_type": "execute_result"
    }
   ],
   "source": [
    "df.sample(10)"
   ]
  },
  {
   "cell_type": "code",
   "execution_count": 56,
   "id": "962dfb86-8688-400c-ba89-cd273e818b85",
   "metadata": {
    "ExecuteTime": {
     "end_time": "2025-05-30T19:59:44.349515Z",
     "start_time": "2025-05-30T19:59:44.347448Z"
    }
   },
   "outputs": [
    {
     "data": {
      "text/plain": [
       "(9008, 13)"
      ]
     },
     "execution_count": 56,
     "metadata": {},
     "output_type": "execute_result"
    }
   ],
   "source": [
    "df.shape"
   ]
  },
  {
   "cell_type": "markdown",
   "id": "2e53637b-86bb-41bd-89f2-8b15ccdaa06a",
   "metadata": {},
   "source": [
    "####\n",
    "#### Final Summary:\n",
    "\n",
    "The dataset underwent a thorough cleaning process to address issues related to missing values, inconsistent data types, formatting irregularities, and outliers. Categories were standardized using price-based thresholds, and room sizes were adjusted using plausible value ranges to improve data quality and reliability.\n",
    "\n",
    "In total, less than 7% of the dataset was dropped due to irreparable errors or inconsistencies, ensuring that the vast majority of listings were retained for further analysis. The final dataset is now well-structured, consistent, and ready for deeper exploration and visualization."
   ]
  },
  {
   "cell_type": "markdown",
   "id": "380fd5a4-de5f-4a80-8297-9fa32c209498",
   "metadata": {},
   "source": [
    "<p style='background-color: #253d7a; margin-top:20px; padding:5px 15px; font-weight: 500; color: white;'>Saving Data for Future Use</p>"
   ]
  },
  {
   "cell_type": "code",
   "execution_count": 57,
   "id": "ac74c128-2d2c-41be-8992-8f96bfcf8746",
   "metadata": {
    "ExecuteTime": {
     "end_time": "2025-05-30T19:59:44.395051Z",
     "start_time": "2025-05-30T19:59:44.375197Z"
    }
   },
   "outputs": [],
   "source": [
    "df.to_csv('artificial_data_clean.csv', index=False)"
   ]
  }
 ],
 "metadata": {
  "kernelspec": {
   "display_name": "Python 3 (ipykernel)",
   "language": "python",
   "name": "python3"
  },
  "language_info": {
   "codemirror_mode": {
    "name": "ipython",
    "version": 3
   },
   "file_extension": ".py",
   "mimetype": "text/x-python",
   "name": "python",
   "nbconvert_exporter": "python",
   "pygments_lexer": "ipython3",
   "version": "3.12.3"
  }
 },
 "nbformat": 4,
 "nbformat_minor": 5
}
